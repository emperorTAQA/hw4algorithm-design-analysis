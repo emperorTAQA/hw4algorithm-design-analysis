{
 "cells": [
  {
   "cell_type": "markdown",
   "metadata": {},
   "source": [
    "## algorithm design and anlysis-2025 spring  homework 3\n",
    "**Deadline**：2025.5.14\n",
    "\n",
    "**name**:\n",
    "\n",
    "\n",
    "note：\n",
    "---\n",
    "1. 带有\\*的题目，申请免上课的同学，必须完成，其他同学选作；\n",
    "2. 请独立完成，如求助了他人或者大模型，请著明，并且不可省略算法分析部分；\n",
    "4. 如若作答有雷同，全部取消成绩；\n",
    "3. 需要书面作答的题目，可以通过引用图片的形式添加，但是注意上传项目时包含所引用的图片的源文件；\n",
    "4. $log_n$ 默认表示$log_2{n}$;"
   ]
  },
  {
   "cell_type": "markdown",
   "metadata": {},
   "source": [
    "## 问题 1  \n",
    "\n",
    "请证明基于比较的排序算法计算复杂度下界为$\\Omega(nlogn)$"
   ]
  },
  {
   "cell_type": "markdown",
   "metadata": {},
   "source": [
    "you can refer a handwritten picture, pleas upload the picture in /fig/xxx.png\n",
    "answer：\n",
    "![answer6](./fig/6.jpg)"
   ]
  },
  {
   "cell_type": "markdown",
   "metadata": {},
   "source": [
    "## 问题 2 \n",
    "\n",
    "构建二叉搜索树\n",
    "\n",
    "> 1. 给定一个数组 [48, 33, 49, 47, 42, 46, 32], 构建一个二叉搜索树存储这些数据，请**绘制**所构建的**二叉搜索树**（标明结点的值）。\n",
    "> 2. 从第1问的二叉搜索树中删除33，请**绘制**删除33后的**二叉搜索树**（标明结点的值）\n",
    "\n",
    "- 推荐使用graphviz包绘制树的结构"
   ]
  },
  {
   "cell_type": "markdown",
   "metadata": {},
   "source": [
    "you can refer a handwritten picture, pleas upload the picture in /fig/xxx.png\n",
    "answer：\n",
    "![answer7](./fig/6.jpg)"
   ]
  },
  {
   "cell_type": "markdown",
   "metadata": {},
   "source": [
    "## 问题 3 \n",
    "\n",
    "> 下面是九门课程的开始和结束时间:\n",
    ">\n",
    "> [(9:00,12:30), (11:00,14:00), (13:00, 14:30), (9:00,10:30),(13:00, 14:30),(14:00,16:30), (15:00,16:30), (15:00,16:30), (9:00,10:30)]\n",
    ">\n",
    "> 请使用贪婪算法为这九门课分配教室，要求在同一天内安排这些课，并且每个教室同一时间只能安排一门课。\n",
    "\n",
    "**请问最少需要几间教室，罗列出每个教室安排的课程**"
   ]
  },
  {
   "cell_type": "markdown",
   "metadata": {},
   "source": [
    "idea：\n",
    "### 解题思路\n",
    "对于课程安排问题，以按照课程的结束时间进行排序，每次都选择结束时间最早的课程安排进教室，当当前教室无法安排下一门课程（即下一门课程开始时间早于当前教室最后一门课程结束时间）时，就启用新的教室。\n",
    "\n",
    "\n",
    "\n",
    "### 复杂度分析\n",
    "- **时间复杂度**：\n",
    "    - 对课程列表进行排序，使用 Python 的内置排序函数sort，其时间复杂度为 $O(n log n)$，其中 $n$ 是课程的数量。\n",
    "    - 遍历排序后的课程列表，对于每门课程，可能需要遍历所有已分配的教室来检查是否可以安排该课程。在最坏情况下，对于每门课程都需要遍历所有已分配的教室，因此这部分的时间复杂度为 $O(n^2)$。\n",
    "    - 综合起来，该算法的时间复杂度为 $O(n log n)$。"
   ]
  },
  {
   "cell_type": "code",
   "execution_count": null,
   "metadata": {},
   "outputs": [
    {
     "name": "stdout",
     "output_type": "stream",
     "text": [
      "最少需要的教室数量: 3\n",
      "教室 1 安排的课程: [(9, 10.5), (11, 14), (14, 16.5)]\n",
      "教室 2 安排的课程: [(9, 10.5), (13, 14.5), (15, 16.5)]\n",
      "教室 3 安排的课程: [(9, 12.5), (13, 14.5), (15, 16.5)]\n"
     ]
    }
   ],
   "source": [
    "def min_rooms(courses):\n",
    "    courses.sort(key=lambda x: x[1])\n",
    "    rooms = []\n",
    "    for course in courses:\n",
    "        placed = False\n",
    "        for room in rooms:\n",
    "            if not room or course[0] >= room[-1][1]:\n",
    "                room.append(course)\n",
    "                placed = True\n",
    "                break\n",
    "        if not placed:\n",
    "            rooms.append([course])\n",
    "    return rooms\n",
    "\n",
    "courses = [(9, 12.5), (11, 14), (13, 14.5), (9, 10.5), (13, 14.5), (14, 16.5), (15, 16.5), (15, 16.5), (9, 10.5)]\n",
    "room_assignments = min_rooms(courses)\n",
    "print(f\"最少需要的教室数量: {len(min_rooms(courses))}\")\n",
    "for i, room in enumerate(room_assignments):\n",
    "    print(f\"教室 {i + 1} 安排的课程: {room}\")"
   ]
  },
  {
   "cell_type": "markdown",
   "metadata": {},
   "source": [
    "## 问题 4 \n",
    "\n",
    "> 爬楼梯问题：假设爬楼梯时你每次只能爬一阶或者爬两阶，问爬上n阶的楼梯，你一共有多少种方法\n",
    "\n",
    "请设计算法完成该问题，分析算法设计思路，计算时间复杂度，并基于python编程实现"
   ]
  },
  {
   "cell_type": "markdown",
   "metadata": {},
   "source": [
    "idea：\n",
    "### 算法设计思路\n",
    "设 `dp[i]` 表示爬上 `i` 阶楼梯的方法数。\n",
    "\n",
    "对于第 `i` 阶楼梯，到达它的方式只有两种：\n",
    "- 从第 `i - 1` 阶楼梯爬一阶到达，此时方法数等于爬上 `i - 1` 阶楼梯的方法数，即 `dp[i - 1]`。\n",
    "- 从第 `i - 2` 阶楼梯爬两阶到达，此时方法数等于爬上 `i - 2` 阶楼梯的方法数，即 `dp[i - 2]`。\n",
    "\n",
    "所以，爬上 `i` 阶楼梯的方法数 `dp[i] = dp[i - 1] + dp[i - 2]`，这就是状态转移方程。\n",
    "\n",
    "边界条件：\n",
    "- 当 `i = 0` 时，不需要爬楼梯，可认为只有 `1` 种方法（即不爬），所以 `dp[0] = 1` 。\n",
    "- 当 `i = 1` 时，只能一次爬一阶，只有 `1` 种方法，所以 `dp[1] = 1` 。\n",
    "\n",
    "### 时间复杂度分析\n",
    "该算法需要遍历从 `2` 到 `n` 的每个台阶来计算对应的方法数，总共进行了 `n - 1` 次计算，每次计算的操作都是常数时间的加法运算，所以时间复杂度为 $O(n)$ 。"
   ]
  },
  {
   "cell_type": "code",
   "execution_count": null,
   "metadata": {},
   "outputs": [
    {
     "name": "stdout",
     "output_type": "stream",
     "text": [
      "爬上0阶楼梯的方法数为: 1\n",
      "爬上1阶楼梯的方法数为: 1\n",
      "爬上2阶楼梯的方法数为: 2\n",
      "爬上3阶楼梯的方法数为: 3\n",
      "爬上4阶楼梯的方法数为: 5\n",
      "爬上5阶楼梯的方法数为: 8\n",
      "爬上6阶楼梯的方法数为: 13\n",
      "爬上7阶楼梯的方法数为: 21\n",
      "爬上8阶楼梯的方法数为: 34\n",
      "爬上9阶楼梯的方法数为: 55\n"
     ]
    }
   ],
   "source": [
    "def climb_stairs(n):\n",
    "    if n == 0 or n == 1:\n",
    "        return 1\n",
    "    dp = [0] * (n + 1)\n",
    "    dp[0] = 1\n",
    "    dp[1] = 1\n",
    "    for i in range(2, n + 1):\n",
    "        dp[i] = dp[i - 1] + dp[i - 2]\n",
    "    return dp[n]\n",
    "\n",
    "n = 10\n",
    "for i in range(n):\n",
    "    print(f\"爬上{i}阶楼梯的方法数为: {climb_stairs(i)}\")"
   ]
  },
  {
   "cell_type": "markdown",
   "metadata": {},
   "source": [
    "## 问题 5 \n",
    "\n",
    "> 0-1背包问题：现在有4块大理石，每个大理石对应的重量和价值使用一个元组表示, 即（重量，价值），4块大理石的重量和价值为：[(5,10), (4,40), (6,30), (3, 50)], 假设你有一辆最大承重为9的小推车，请问使用这个小推车装大理石的最大价值为多少\n",
    "\n",
    "请设计一个算法解决该问题，分析算法设计思路，计算时间复杂度，并基于python编程实现"
   ]
  },
  {
   "cell_type": "markdown",
   "metadata": {},
   "source": [
    "idea：\n",
    "### 算法设计思路\n",
    "设 `dp[i][j]` 表示在前 `i` 个物品（这里是大理石）中选择，且背包容量（小推车承重）为 `j` 时能获得的最大价值。\n",
    "\n",
    "状态转移方程：\n",
    "对于第 `i` 个物品（编号从 1 开始），有两种情况：\n",
    "- 不选第 `i` 个物品，此时最大价值就是在前 `i - 1` 个物品中选择，背包容量仍为 `j` 的最大价值，即 `dp[i - 1][j]`。\n",
    "- 选第 `i` 个物品，前提是背包容量 `j` 大于等于该物品的重量 `weights[i - 1]` ，此时最大价值是在前 `i - 1` 个物品中选择，背包容量为 `j - weights[i - 1]` 的最大价值加上该物品的价值 `values[i - 1]` ，即 `dp[i - 1][j - weights[i - 1]] + values[i - 1]` 。\n",
    "所以，`dp[i][j] = max(dp[i - 1][j], dp[i - 1][j - weights[i - 1]] + values[i - 1])` （当 `j >= weights[i - 1]` 时），否则 `dp[i][j] = dp[i - 1][j]` 。\n",
    "\n",
    "边界条件：\n",
    "当 `i = 0` （即没有物品可选）或者 `j = 0` （背包容量为 0 ）时，`dp[0][j] = 0` 且 `dp[i][0] = 0` 。\n",
    "\n",
    "### 时间复杂度分析\n",
    "算法需要两层循环，外层循环遍历物品（大理石）数量，这里是 4 个，内层循环遍历背包容量（从 0 到 9 ），总的时间复杂度为 $O(n * W)$ ，其中 `n` 是物品数量，`W` 是背包的最大承重，本题中时间复杂度为 $O(4×9)=O(36)$ ，一般形式下是 $O(nW)$ 。\n",
    "\n"
   ]
  },
  {
   "cell_type": "code",
   "execution_count": null,
   "metadata": {},
   "outputs": [
    {
     "name": "stdout",
     "output_type": "stream",
     "text": [
      "小推车装大理石的最大价值为: 90\n"
     ]
    }
   ],
   "source": [
    "def knapsack_01(weights, values, capacity):\n",
    "    n = len(weights)\n",
    "    dp = [[0] * (capacity + 1) for _ in range(n + 1)]\n",
    "    for i in range(1, n + 1):\n",
    "        for j in range(1, capacity + 1):\n",
    "            if j < weights[i - 1]:\n",
    "                dp[i][j] = dp[i - 1][j]\n",
    "            else:\n",
    "                dp[i][j] = max(dp[i - 1][j], dp[i - 1][j - weights[i - 1]] + values[i - 1])\n",
    "    return dp[n][capacity]\n",
    "\n",
    "weights = [5, 4, 6, 3]\n",
    "values = [10, 40, 30, 50]\n",
    "capacity = 9\n",
    "print(f\"小推车装大理石的最大价值为: {knapsack_01(weights, values, capacity)}\")"
   ]
  },
  {
   "cell_type": "markdown",
   "metadata": {},
   "source": [
    "## 问题 6 \n",
    "给定 `n` 个非负整数表示每个宽度为 `1` 的柱子的高度图，计算按此排列的柱子，下雨之后能接多少雨水。\n",
    "\n",
    "\n",
    "\n",
    "<div style=\"text-align:center;width:800px;\"> <img alt=\"\" src=\"./fig/hw3q6.png\"> </div>\n",
    "\n",
    "请分析算法设计思路，计算时间复杂度，并基于python编程实现"
   ]
  },
  {
   "cell_type": "markdown",
   "metadata": {},
   "source": [
    "idea：方法三：双指针\n",
    "\n",
    "\n",
    "### 算法设计思路\n",
    "基于双指针法，利用左右两侧的高度信息来计算可接住的雨水量。\n",
    "\n",
    " **初始化**：获取数组 `height` 的长度 `n` ，若 `n` 小于等于 `2` ，意味着无法形成凹槽来存储雨水，直接返回 `0` 。初始化左右指针 `left` 和 `right` 分别指向数组两端，同时初始化左侧最大值 `leftMax` 和右侧最大值 `rightMax` 为 `0` ，以及存储结果的变量 `res` 为 `0` 。 \n",
    "\n",
    " **循环计算**：在 `left` 指针小于 `right` 指针的循环过程中，比较 `height[left]` 和 `height[right]` ：\n",
    "    - 当 `height[left] < height[right]` 时，说明在当前状态下，从左边向右边看，左边相对较矮。此时 `leftMax` 必然小于等于 `rightMax` （因为右边的高度下限是 `height[right]`  ），所以可以确定在 `left` 位置能接住的雨水量是 `leftMax - height[left]` （`leftMax` 是左侧已遍历部分的最大高度 ），更新 `leftMax` ，将该位置能接住的雨水量累加到 `res` 中，并右移 `left` 指针。\n",
    "    - 当 `height[left] >= height[right]` 时，说明从右边向左边看，右边相对较矮。此时 `rightMax` 必然小于等于 `leftMax` ，所以可以确定在 `right` 位置能接住的雨水量是 `rightMax - height[right]` ，更新 `rightMax` ，将该位置能接住的雨水量累加到 `res` 中，并左移 `right` 指针。 \n",
    "\n",
    " 循环结束后，`res` 中存储的就是总共能接住的雨水量，将其返回。\n",
    "\n",
    "### 时间复杂度分析\n",
    "时间复杂度为 $O(n)$ ，其中 `n` 是数组 `height` 的长度。 \n",
    "### 空间复杂度分析\n",
    "$O(1)$ 只需要常数的额外空间\n",
    "\n",
    "\n",
    "\n"
   ]
  },
  {
   "cell_type": "code",
   "execution_count": null,
   "metadata": {},
   "outputs": [
    {
     "name": "stdout",
     "output_type": "stream",
     "text": [
      "6\n",
      "9\n"
     ]
    }
   ],
   "source": [
    "\n",
    "def collectRain(height):\n",
    "    n = len(height)\n",
    "    if n <= 2:\n",
    "        return 0\n",
    "    \n",
    "    left = 0\n",
    "    right = n-1\n",
    "    leftMax = 0\n",
    "    rightMax = 0\n",
    "    res = 0\n",
    "    while left < right:\n",
    "        # 此时 leftMax 必小于 rightMax 更新左指针\n",
    "        if height[left] < height[right]:\n",
    "            leftMax = max(leftMax,height[left])\n",
    "            res+=leftMax-height[left]\n",
    "            left+=1\n",
    "        else:\n",
    "        #此时 rightMax必定小于等于leftMax 更新右指针\n",
    "            rightMax = max(rightMax,height[right])\n",
    "            res+=rightMax-height[right]\n",
    "            right-=1\n",
    "    return res\n",
    "        \n",
    "arr1 = [0,1,0,2,1,0,1,3,2,1,2,1]\n",
    "arr2 = [4,2,0,3,2,5]\n",
    "print(collectRain(arr1))\n",
    "print(collectRain(arr2))\n",
    "        "
   ]
  },
  {
   "cell_type": "markdown",
   "metadata": {},
   "source": [
    "## 问题 7 \n",
    "\n",
    "**股票投资组合优化**： 假设你是一位投资者，想要在不同的股票中分配你的资金，以最大化你的投资回报。每只股票都有不同的预期收益率和风险。你的目标是选择一些股票，使得总投资金额不超过你的预算，并且预期收益最大化。\n",
    "\n",
    "在这个情况下，你可以将每只股票视为一个“物品”，其重量为投资金额，价值为预期收益率。然后，你可以使用分级背包问题的方法来选择部分股票，以便在预算内获得最大的预期收益。\n",
    "\n",
    "以下是一个简化的例子：\n",
    "\n",
    "假设你有以下三只股票可供选择：\n",
    "\n",
    "1. 股票 A：投资金额 5000 美元，预期收益率 10%\n",
    "2. 股票 B：投资金额 3000 美元，预期收益率 8%\n",
    "3. 股票 C：投资金额 2000 美元，预期收益率 12%\n",
    "\n",
    "请设计算法找到最优投资方案，分析算法设计思路，计算时间复杂度，并基于python编程实现"
   ]
  },
  {
   "cell_type": "markdown",
   "metadata": {},
   "source": [
    "idea：\n",
    "### 算法设计思路\n",
    "将每只股票看作一个物品，股票的投资金额视为物品重量，预期收益率视为物品价值，投资者的预算相当于背包容量。\n",
    "1. **定义状态**：设 `dp[i][j]` 表示在前 `i` 只股票中选择，投资金额不超过 `j` 时能获得的最大预期收益。\n",
    "2. **状态转移方程**：\n",
    "    - 对于第 `i` 只股票（编号从 1 开始 ），有选和不选两种情况。不选第 `i` 只股票时，最大预期收益就是在前 `i - 1` 只股票中选择，投资金额不超过 `j` 的最大预期收益，即 `dp[i - 1][j]` ；选第 `i` 只股票时（前提是投资金额 `j` 大于等于该股票的投资金额 `costs[i - 1]` ），最大预期收益是在前 `i - 1` 只股票中选择，投资金额为 `j - costs[i - 1]` 的最大预期收益加上该股票的预期收益 `profits[i - 1]` ，即 `dp[i - 1][j - costs[i - 1]] + profits[i - 1]` 。所以状态转移方程为 `dp[i][j] = max(dp[i - 1][j], dp[i - 1][j - costs[i - 1]] + profits[i - 1])` （当 `j >= costs[i - 1]` 时 ），否则 `dp[i][j] = dp[i - 1][j]` 。\n",
    "3. **边界条件**：当 `i = 0` （没有股票可选 ）或者 `j = 0` （投资金额为 0 ）时，`dp[0][j] = 0` 且 `dp[i][0] = 0` 。\n",
    "4. **回溯找出方案**：通过比较 `dp` 数组中不同位置的值，从最后一个状态往前回溯，确定选择了哪些股票。\n",
    "\n",
    "### 时间复杂度分析\n",
    "算法需要两层循环，外层循环遍历股票数量（这里是 3 只 ），内层循环遍历投资金额（从 0 到预算 ），总的时间复杂度为 $O(n * W)$ ，其中 `n` 是股票数量，`W` 是预算金额，本题中时间复杂度为 $O(3×预算金额)$ ，一般形式下是 $O(nW)$ 。\n"
   ]
  },
  {
   "cell_type": "code",
   "execution_count": 19,
   "metadata": {},
   "outputs": [
    {
     "name": "stdout",
     "output_type": "stream",
     "text": [
      "最大预期收益金额: 740.0\n",
      "选择的股票: C, A\n",
      "每只股票投资的金额数:\n",
      "A: 5000\n",
      "B: 0\n",
      "C: 2000\n"
     ]
    }
   ],
   "source": [
    "def stock_investment(costs, profits, budget):\n",
    "    n = len(costs)\n",
    "    dp = [[0] * (budget + 1) for _ in range(n + 1)]\n",
    "    for i in range(1, n + 1):\n",
    "        for j in range(1, budget + 1):\n",
    "            if j < costs[i - 1]:\n",
    "                dp[i][j] = dp[i - 1][j]\n",
    "            else:\n",
    "                dp[i][j] = max(dp[i - 1][j], dp[i - 1][j - costs[i - 1]] + profits[i - 1] * costs[i - 1])\n",
    "    # 回溯找出选择的股票\n",
    "    selected_stocks = []\n",
    "    investments = [0] * n\n",
    "    j = budget\n",
    "    for i in range(n, 0, -1):\n",
    "        if dp[i][j] > dp[i - 1][j]:\n",
    "            selected_stocks.append(i - 1)\n",
    "            investments[i - 1] = costs[i - 1]\n",
    "            j -= costs[i - 1]\n",
    "    max_profit = dp[n][budget]\n",
    "    stock_names = ['A', 'B', 'C']\n",
    "    selected_stock_names = [stock_names[i] for i in selected_stocks]\n",
    "    return max_profit, selected_stock_names, investments\n",
    "\n",
    "\n",
    "# 示例数据\n",
    "costs = [5000, 3000, 2000]\n",
    "profits = [0.1, 0.08, 0.12]\n",
    "budget = 7000\n",
    "max_profit, selected, investments = stock_investment(costs, profits, budget)\n",
    "print(f\"最大预期收益金额: {max_profit}\")\n",
    "print(f\"选择的股票: {', '.join(selected)}\")\n",
    "print(\"每只股票投资的金额数:\")\n",
    "for i, name in enumerate(['A', 'B', 'C']):\n",
    "    print(f\"{name}: {investments[i]}\")\n",
    "    "
   ]
  },
  {
   "cell_type": "markdown",
   "metadata": {},
   "source": [
    "## 问题 8\n",
    "\n",
    "给你二叉搜索树的根节点 root ，该树中的恰好两个节点的值被错误地交换。请在不改变其结构的情况下，恢复这棵树 。设计算法解决该问题，分析算法设计思路，计算时间复杂度，并基于python编程实现\n",
    "\n",
    "e.g.:\n",
    "---\n",
    "1.\n",
    "\n",
    "<div style=\"text-align:center;width:200px;\"> <img alt=\"\" src=\"./fig/hw3q9-1.jpg\"> </div>\n",
    "输入：root = [1,3,null,null,2]， 输出为：[3,1,null,null,2]， \n",
    "\n",
    "解释：3 不能是 1 的左孩子，因为 3 > 1 。交换 1 和 3 使二叉搜索树有效。\n",
    "\n",
    "2.\n",
    "\n",
    " <div style=\"text-align:center;width:200px;\"> <img alt=\"\" src=\"./fig/hw3q9-1.jpg\"> </div>\n",
    "输入： root=[3,1,4,null,null,2]， 输出为：[2,1,4,null,null,3]\n",
    "\n",
    "解释：2 不能在 3 的右子树中，因为 2 < 3 。交换 2 和 3 使二叉搜索树有效。"
   ]
  },
  {
   "cell_type": "markdown",
   "metadata": {},
   "source": [
    "idea：\n",
    "\n",
    "### 算法设计思路\n",
    "1. **利用二叉搜索树中序遍历特性**：二叉搜索树的中序遍历结果是一个递增序列。由于只有两个节点的值被错误交换，那么在中序遍历过程中，会出现相邻节点值逆序的情况。最多会出现两次逆序，第一次逆序时的第一个节点和第二次逆序时的第二个节点（若只出现一次逆序，那这两个节点就是逆序的这两个相邻节点 ），就是被交换值的两个节点。\n",
    "2. **中序遍历过程记录错误节点**：在中序遍历二叉搜索树时，使用一个指针记录当前节点的前驱节点。每次遍历到一个节点，检查当前节点值是否小于前驱节点值。如果小于，就发现了一个错误节点对。第一次发现时，记录前驱节点为第一个错误节点 `first` ，当前节点为第二个错误节点 `second` ；若后续又出现这种情况，更新 `second` 节点。\n",
    "3. **交换节点值恢复树**：找到这两个错误节点后，交换它们的值，即可在不改变树结构的情况下恢复二叉搜索树。 \n",
    "\n",
    "### 时间复杂度分析\n",
    "二叉搜索树的中序遍历时间复杂度为 $O(n)$ ，其中 `n` 是二叉树的节点数。在遍历过程中，对每个节点的操作（比较值、记录错误节点等 ）都是常数时间操作，所以整体算法的时间复杂度为 $O(n)$ 。\n",
    "\n"
   ]
  },
  {
   "cell_type": "code",
   "execution_count": 30,
   "metadata": {},
   "outputs": [
    {
     "name": "stdout",
     "output_type": "stream",
     "text": [
      "恢复前的中序遍历结果:\n",
      "中序遍历结果: [3, 2, 1]\n",
      "恢复后的中序遍历结果:\n",
      "中序遍历结果: [1, 2, 3]\n"
     ]
    }
   ],
   "source": [
    "\n",
    "class TreeNode:\n",
    "    def __init__(self, val=0, left=None, right=None):\n",
    "        self.val = val\n",
    "        self.left = left\n",
    "        self.right = right\n",
    "\n",
    "\n",
    "def recoverTree(root):\n",
    "    first = None\n",
    "    second = None\n",
    "    prev = TreeNode(float('-inf'))\n",
    "\n",
    "    def inorderTraversal(node):\n",
    "        nonlocal first, second, prev\n",
    "        if not node:\n",
    "            return\n",
    "        inorderTraversal(node.left)\n",
    "        if prev.val > node.val:\n",
    "            if not first:\n",
    "                first = prev\n",
    "            second = node\n",
    "        prev = node\n",
    "        inorderTraversal(node.right)\n",
    "\n",
    "    inorderTraversal(root)\n",
    "    # 非空检查\n",
    "    if first and second:\n",
    "        first.val, second.val = second.val, first.val\n",
    "    return root\n",
    "\n",
    "\n",
    "# 中序遍历打印函数\n",
    "def inorder_print(root):\n",
    "    result = []\n",
    "    def inorder(node):\n",
    "        if node:\n",
    "            inorder(node.left)\n",
    "            result.append(node.val)\n",
    "            inorder(node.right)\n",
    "    inorder(root)\n",
    "    print(\"中序遍历结果:\", result)\n",
    "\n",
    "\n",
    "root = TreeNode(1)\n",
    "root.left = TreeNode(3)\n",
    "root.left.right = TreeNode(2)\n",
    "\n",
    "print(\"恢复前的中序遍历结果:\")\n",
    "inorder_print(root)\n",
    "\n",
    "recovered_root = recoverTree(root)\n",
    "\n",
    "print(\"恢复后的中序遍历结果:\")\n",
    "inorder_print(recovered_root)\n",
    "    "
   ]
  },
  {
   "cell_type": "markdown",
   "metadata": {},
   "source": [
    "## 问题 9  \n",
    "\n",
    "给你一个二叉树的根节点 root ，树中每个节点都存放有一个 0 到 9 之间的数字。每条从根节点到叶节点的路径都代表一个数字：\n",
    "\n",
    "> 例如，从根节点到叶节点的路径 1 -> 2 -> 3 表示数字 123 。\n",
    "\n",
    "设计一个算法计算从根节点到叶节点生成的所有数字之和 ，分析算法设计思路，计算时间复杂度，并基于python编程实现\n",
    "\n",
    "叶节点:是指没有子节点的节点。\n",
    "\n",
    "e.g.:\n",
    "---\n",
    "1.\n",
    "\n",
    " <div style=\"text-align:center;width:200px;\"> <img alt=\"figure\" src=\"./fig/hw3q10-1.jpg\"> </div>\n",
    "\n",
    " 输入：root = [1,2,3], 输出：25\n",
    "\n",
    "解释：从根到叶子节点路径 1->2 代表数字 12，1->3 代表数字 13，因此和为 12 + 13 = 25 。\n",
    "\n",
    "2.\n",
    "\n",
    " <div style=\"text-align:center;width:200px;\"> <img alt=\"figure\" src=\"./fig/hw3q10-2.jpg\"> </div>\n",
    "\n",
    " 输入：root = [4,9,0,5,1], 输出：1026\n",
    "\n",
    "解释：从根到叶子节点路径 4->9->5 代表数字 495，4->9->1 代表数字 491，4->0 代表数字 40。因此和为 495 + 491 + 40 = 1026 。"
   ]
  },
  {
   "cell_type": "markdown",
   "metadata": {},
   "source": [
    "idea：\n",
    "### 算法设计思路\n",
    "采用深度优先搜索（DFS）算法。从根节点开始，沿着树的分支向下遍历，在遍历过程中记录从根节点到当前节点所形成的数字。当到达叶节点时，将该路径所代表的数字累加到结果中。具体步骤如下：\n",
    "1. **定义递归函数**：递归函数接收当前节点 `node` 和当前已形成的数字 `num` 作为参数。在函数内部，首先计算当前节点加入后的新数字，即 `num = num * 10 + node.val` 。\n",
    "2. **判断叶节点**：检查当前节点是否为叶节点（即没有左子节点和右子节点 ），如果是叶节点，将当前数字 `num` 累加到结果变量中。\n",
    "3. **递归调用**：分别对当前节点的左子节点和右子节点进行递归调用，继续向下遍历树。\n",
    "4. **返回结果**：遍历结束后，返回累加得到的所有数字之和。\n",
    "\n",
    "### 时间复杂度分析\n",
    "该算法需要遍历二叉树的每个节点一次，对于每个节点的操作都是常数时间的，所以时间复杂度为 $O(n)$ ，其中 `n` 是二叉树的节点数。\n"
   ]
  },
  {
   "cell_type": "code",
   "execution_count": 32,
   "metadata": {},
   "outputs": [
    {
     "name": "stdout",
     "output_type": "stream",
     "text": [
      "25\n",
      "1026\n"
     ]
    }
   ],
   "source": [
    "# 定义二叉树节点类\n",
    "class TreeNode:\n",
    "    def __init__(self, val=0, left=None, right=None):\n",
    "        self.val = val\n",
    "        self.left = left\n",
    "        self.right = right\n",
    "\n",
    "\n",
    "def sumNumbers(root):\n",
    "    result = 0\n",
    "    def dfs(node, num):\n",
    "        nonlocal result\n",
    "        if not node:\n",
    "            return\n",
    "        num = num * 10 + node.val\n",
    "        if not node.left and not node.right:\n",
    "            result += num\n",
    "        dfs(node.left, num)\n",
    "        dfs(node.right, num)\n",
    "    dfs(root, 0)\n",
    "    return result\n",
    "\n",
    "# 构建测试用的二叉树\n",
    "root = TreeNode(1)\n",
    "root.left = TreeNode(2)\n",
    "root.right = TreeNode(3)\n",
    "\n",
    "root2 = TreeNode(4)\n",
    "root2.left = TreeNode(9)\n",
    "root2.right = TreeNode(0)\n",
    "root2.left.left = TreeNode(5)\n",
    "root2.left.right = TreeNode(1)\n",
    "print(sumNumbers(root))\n",
    "print(sumNumbers(root2))"
   ]
  },
  {
   "cell_type": "markdown",
   "metadata": {},
   "source": [
    "## 问题 10  \n",
    "\n",
    "给你一个二叉树的根节点 root ， 检查它是否轴对称。\n",
    "\n",
    "1. 分析算法设计思路，计算时间复杂度，并基于python编程实现\n",
    "2. \\* 设计使用递归和迭代两种方法解决这个问题，计算时间复杂度，并基于python编程实现\n",
    "\n",
    "e.g.:\n",
    "---\n",
    "1.\n",
    "\n",
    " <div style=\"text-align:center;width:200px;\"> <img alt=\"figure\" src=\"./fig/hw3q11-1.png\"> </div>\n",
    "\n",
    " 输入：root = [1,2,2,3,4,4,3]， 输出：true\n",
    "\n",
    "解释：二叉树 [1,2,2,3,4,4,3] 对称。\n",
    "\n",
    "2.\n",
    "\n",
    " <div style=\"text-align:center;width:200px;\"> <img alt=\"figure\" src=\"./fig/hw3q11-2.png\"> </div>\n",
    "\n",
    " 输入：root = [1,2,2,null,3,null,3]， 输出：false"
   ]
  },
  {
   "cell_type": "markdown",
   "metadata": {},
   "source": [
    "idea\n",
    "#### 算法设计思路\n",
    "使用队列来模拟递归过程。初始将根节点的左子树和右子树入队。每次从队列取出两个节点，判断它们是否满足镜像对称条件：\n",
    " - 若都为空，继续；\n",
    " - 若一个为空一个不为空，或值不相等，则不对称；\n",
    " - 否则将它们的子节点按对称顺序入队（左子树的左子树和右子树的右子树，左子树的右子树和右子树的左子树 ）。不断循环直到队列为空。\n",
    "\n",
    "#### 时间复杂度分析\n",
    "需遍历每个节点，时间复杂度为 $O(n)$，$n$ 是二叉树节点数。\n"
   ]
  },
  {
   "cell_type": "code",
   "execution_count": 37,
   "metadata": {},
   "outputs": [
    {
     "name": "stdout",
     "output_type": "stream",
     "text": [
      "root=[1,2,2,3,4,4,3] 结果 True\n",
      "root=[1, 2, 2, None, 3, None, 3] 结果False\n"
     ]
    }
   ],
   "source": [
    "# 定义二叉树节点类\n",
    "class TreeNode:\n",
    "    def __init__(self, val=0, left=None, right=None):\n",
    "        self.val = val\n",
    "        self.left = left\n",
    "        self.right = right\n",
    "\n",
    "\n",
    "def isSymmetric(root):\n",
    "    if root is None:\n",
    "        return True\n",
    "    queue = [(root.left, root.right)]\n",
    "    while queue:\n",
    "        left, right = queue.pop(0)\n",
    "        if left is None and right is None:\n",
    "            continue\n",
    "        if left is None or right is None or left.val != right.val:\n",
    "            return False\n",
    "        queue.append((left.left, right.right))\n",
    "        queue.append((left.right, right.left))\n",
    "    return True\n",
    "\n",
    "def buildTree(lst):\n",
    "    if not lst:\n",
    "        return None\n",
    "    root = TreeNode(lst[0])\n",
    "    queue = [root]\n",
    "    i = 1\n",
    "    while queue and i < len(lst):\n",
    "        current = queue.pop(0)\n",
    "        if lst[i] is not None:\n",
    "            current.left = TreeNode(lst[i])\n",
    "            queue.append(current.left)\n",
    "        i += 1\n",
    "        if i < len(lst) and lst[i] is not None:\n",
    "            current.right = TreeNode(lst[i])\n",
    "            queue.append(current.right)\n",
    "        i += 1\n",
    "    return root\n",
    "\n",
    "\n",
    "tree_list1 = [1,2,2,3,4,4,3]\n",
    "root1 = buildTree(tree_list1)\n",
    "\n",
    "tree_list2 = [1, 2, 2, None, 3, None, 3]\n",
    "root2 = buildTree(tree_list2)\n",
    "\n",
    "result_iterative1 = isSymmetric(root1)\n",
    "result_iterative2 = isSymmetric(root2)\n",
    "print(f\"root=[1,2,2,3,4,4,3] 结果 {result_iterative1}\")\n",
    "print(f\"root=[1, 2, 2, None, 3, None, 3] 结果{result_iterative2}\")\n",
    "\n",
    "\n",
    "\n"
   ]
  },
  {
   "cell_type": "markdown",
   "metadata": {},
   "source": [
    "## 问题 11  \n",
    "\n",
    "给你一个由 '1'（陆地）和 '0'（水）组成的的二维网格，请你计算网格中岛屿的数量。岛屿总是被水包围，并且每座岛屿只能由水平方向和/或竖直方向上相邻的陆地连接形成。\n",
    "\n",
    "此外，你可以假设该网格的四条边均被水包围。\n",
    "\n",
    "分析算法设计思路，计算时间复杂度，并基于python编程实现\n",
    "\n",
    "e.g.:\n",
    "---\n",
    "1.\n",
    "输入：grid = [\n",
    "\n",
    "    [\"1\",\"1\",\"1\",\"1\",\"0\"],\n",
    "\n",
    "    [\"1\",\"1\",\"0\",\"1\",\"0\"], \n",
    "\n",
    "    [\"1\",\"1\",\"0\",\"0\",\"0\"], \n",
    "\n",
    "    [\"0\",\"0\",\"0\",\"0\",\"0\"]  \n",
    "\n",
    "]\n",
    "\n",
    "输出：1\n",
    "\n",
    "2.\n",
    "输入：grid = [\n",
    "\n",
    "    [\"1\",\"1\",\"0\",\"0\",\"0\"],\n",
    "\n",
    "    [\"1\",\"1\",\"0\",\"0\",\"0\"],\n",
    "\n",
    "    [\"0\",\"0\",\"1\",\"0\",\"0\"],\n",
    "\n",
    "    [\"0\",\"0\",\"0\",\"1\",\"1\"]\n",
    "\n",
    "]\n",
    "\n",
    "输出：3"
   ]
  },
  {
   "cell_type": "markdown",
   "metadata": {},
   "source": [
    "idea:\n",
    "### 算法设计思路\n",
    "使用深度优先搜索（DFS）\n",
    "1. 遍历二维网格中的每个单元格。\n",
    "2. 当遇到值为 `'1'`（陆地）的单元格时，从该单元格开始进行深度优先搜索。在搜索过程中，将与该陆地单元格相连（水平或垂直方向）的所有陆地单元格都标记为已访问（例如可以将其值改为 `'0'` 表示已访问过 ），这样就能把这一片相连的陆地都“淹没”，视为一个岛屿。\n",
    "3. 每完成一次从某个陆地单元格开始的深度优先搜索，岛屿数量就加1。\n",
    "4. 继续遍历网格，重复上述步骤，直到遍历完整个网格。\n",
    "\n",
    "### 时间复杂度分析\n",
    "最坏情况下，需要遍历二维网格中的每一个单元格，设网格的行数为 `m`，列数为 `n`，那么时间复杂度为 $O(mn)$ \n",
    "\n"
   ]
  },
  {
   "cell_type": "code",
   "execution_count": null,
   "metadata": {},
   "outputs": [
    {
     "name": "stdout",
     "output_type": "stream",
     "text": [
      "1\n",
      "3\n"
     ]
    }
   ],
   "source": [
    "def numIslands(grid):\n",
    "    def dfs(i, j):\n",
    "        if i < 0 or i >= len(grid) or j < 0 or j >= len(grid[0]) or grid[i][j] == '0':\n",
    "            return\n",
    "        grid[i][j] = '0'\n",
    "        dfs(i - 1, j)\n",
    "        dfs(i + 1, j)\n",
    "        dfs(i, j - 1)\n",
    "        dfs(i, j + 1)\n",
    "\n",
    "    if not grid:\n",
    "        return 0\n",
    "    islands = 0\n",
    "    for i in range(len(grid)):\n",
    "        for j in range(len(grid[0])):\n",
    "            if grid[i][j] == '1':\n",
    "                dfs(i, j)\n",
    "                islands += 1\n",
    "    return islands\n",
    "\n",
    "\n",
    "grid = [\n",
    "\n",
    "    [\"1\",\"1\",\"1\",\"1\",\"0\"],\n",
    "\n",
    "    [\"1\",\"1\",\"0\",\"1\",\"0\"], \n",
    "\n",
    "    [\"1\",\"1\",\"0\",\"0\",\"0\"], \n",
    "\n",
    "    [\"0\",\"0\",\"0\",\"0\",\"0\"]  \n",
    "\n",
    "]\n",
    "\n",
    "grid2 = [\n",
    "\n",
    "    [\"1\",\"1\",\"0\",\"0\",\"0\"],\n",
    "\n",
    "    [\"1\",\"1\",\"0\",\"0\",\"0\"],\n",
    "\n",
    "    [\"0\",\"0\",\"1\",\"0\",\"0\"],\n",
    "\n",
    "    [\"0\",\"0\",\"0\",\"1\",\"1\"]\n",
    "\n",
    "]\n",
    "print(numIslands(grid))\n",
    "print(numIslands(grid2))"
   ]
  }
 ],
 "metadata": {
  "kernelspec": {
   "display_name": "base",
   "language": "python",
   "name": "python3"
  },
  "language_info": {
   "codemirror_mode": {
    "name": "ipython",
    "version": 3
   },
   "file_extension": ".py",
   "mimetype": "text/x-python",
   "name": "python",
   "nbconvert_exporter": "python",
   "pygments_lexer": "ipython3",
   "version": "3.11.7"
  }
 },
 "nbformat": 4,
 "nbformat_minor": 2
}
