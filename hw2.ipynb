{
 "cells": [
  {
   "cell_type": "markdown",
   "metadata": {},
   "source": [
    "## algorithm design and anlysis-2025 spring  homework 2\n",
    "**Deadline**：2025.5.14\n",
    "\n",
    "**name**:\n",
    "\n",
    "\n",
    "note：\n",
    "---\n",
    "1. 带有\\*的题目，申请免上课的同学，必须完成，其他同学选作；\n",
    "2. 请独立完成，如求助了他人或者大模型，请著明，并且不可省略算法分析部分；\n",
    "4. 如若作答有雷同，全部取消成绩；\n",
    "3. 需要书面作答的题目，可以通过引用图片的形式添加，但是注意上传项目时包含所引用的图片的源文件；\n",
    "4. $log_n$ 默认表示$log_2{n}$;"
   ]
  },
  {
   "cell_type": "markdown",
   "metadata": {},
   "source": [
    "## 问题 1  \n",
    "\n",
    "> 给定一个已排序的链表的头 `head` ， *删除所有重复的元素，使每个元素只出现一次* 。返回 *已排序的链表* 。链表的类如下所示：\n",
    "\n",
    "```python\n",
    "class NodeList:\n",
    "    def __init__(self, val=None, right=None):\n",
    "        self.val   = val\n",
    "        self.right = right\n",
    "```\n",
    "\n",
    "输入是一个数组，你首先需要将数组转化为链表，然后删除链表中的重复元素，再遍历链表元素，以一个数组的形式返回。请设计一个算法解决上述任务，分析算法设计思路，计算时间复杂度, 并基于python编程实现。\n",
    "\n",
    "e.g.  输入：head=[1, 1, 2, 3, 3]   输出：[1, 2, 3]\n",
    "\n",
    "![image-20240502110020439](./fig/hw2q1.png)\n",
    "\n"
   ]
  },
  {
   "cell_type": "markdown",
   "metadata": {},
   "source": [
    "idea：\n",
    "### 算法设计思路\n",
    "1. **构建链表**：遍历输入数组，利用给定的 `NodeList` 类，逐个创建链表节点并连接起来，构建出链表。\n",
    "2. **删除重复元素**：由于链表已经排序，使用双指针法。设置一个慢指针 `slow` 指向链表头节点，快指针 `fast` 指向头节点的下一个节点。遍历链表，当 `fast.val` 与 `slow.val` 相等时，说明遇到重复元素，移动 `fast` 指针跳过重复元素；当 `fast.val` 与 `slow.val` 不相等时，将 `slow` 的下一个节点指向 `fast` 节点，然后同时移动 `slow` 和 `fast` 指针。\n",
    "3. **遍历链表并转化为数组**：遍历处理后的链表，将每个节点的值添加到一个数组中并返回。 \n",
    "\n",
    "### 时间复杂度分析\n",
    "1. **构建链表**：遍历输入数组构建链表，数组长度为 `n` ，时间复杂度为 $O(n)$ 。\n",
    "2. **删除重复元素**：一次遍历链表删除重复元素，链表长度最长为 `n` ，时间复杂度为 $O(n)$ 。\n",
    "3. **遍历链表并转化为数组**：再次遍历链表，时间复杂度为 $O(n)$ 。\n",
    "\n",
    "总体时间复杂度为 $O(n)$ ，其中 `n` 是输入数组的长度。\n"
   ]
  },
  {
   "cell_type": "code",
   "execution_count": 2,
   "metadata": {},
   "outputs": [
    {
     "name": "stdout",
     "output_type": "stream",
     "text": [
      "[1, 2, 3]\n"
     ]
    }
   ],
   "source": [
    "class NodeList:\n",
    "    def __init__(self, val=None, right=None):\n",
    "        self.val = val\n",
    "        self.right = right\n",
    "\n",
    "\n",
    "def array_to_linked_list(arr):\n",
    "    if not arr:\n",
    "        return None\n",
    "    head = NodeList(arr[0])\n",
    "    cur = head\n",
    "    for num in arr[1:]:\n",
    "        cur.right = NodeList(num)\n",
    "        cur = cur.right\n",
    "    return head\n",
    "\n",
    "\n",
    "def delete_duplicates(head):\n",
    "    if not head:\n",
    "        return head\n",
    "    slow = head\n",
    "    fast = head.right\n",
    "    while fast:\n",
    "        if fast.val == slow.val:\n",
    "            fast = fast.right\n",
    "        else:\n",
    "            slow.right = fast\n",
    "            slow = fast\n",
    "            fast = fast.right\n",
    "    slow.right = None\n",
    "    return head\n",
    "\n",
    "\n",
    "def linked_list_to_array(head):\n",
    "    result = []\n",
    "    cur = head\n",
    "    while cur:\n",
    "        result.append(cur.val)\n",
    "        cur = cur.right\n",
    "    return result\n",
    "\n",
    "\n",
    "def solve(arr):\n",
    "    head = array_to_linked_list(arr)\n",
    "    head = delete_duplicates(head)\n",
    "    return linked_list_to_array(head)\n",
    "\n",
    "# 示例测试\n",
    "arr = [1, 1, 2, 3, 3]\n",
    "print(solve(arr))"
   ]
  },
  {
   "cell_type": "markdown",
   "metadata": {},
   "source": [
    "## 问题 2  \n",
    "\n",
    "> 下面是一个经典的算法问题：\n",
    ">\n",
    "> - 给定包含n个整数的一个整数数组 `nums` 和一个整数目标值 `target`，请你在该数组中找出 **和为目标值** *`target`* 的那 **两个** 整数，并返回它们的**数组下标**。假设每种输入只会对应一个答案。但是，数组中同一个元素在答案里不能重复出现。你可以按任意顺序返回答案。\n",
    ">\n",
    "> 由于要多次查找数组中元素的位置，为了提高查询效率可以使用哈希表来存储数组中的数据，在哈希表中查询一个元素的复杂度为O(1)。 已知python中的字典是使用哈希表实现的，即使用`dict[key]`查询对应的value时间复杂度为O(1), python提供了查询字典是否包含某个key的功能：`key in dict`，时间复杂度也是O(1)\n",
    "\n",
    "请根据上面信息，设计一个时间复杂度为O(n) 的算法，解决上述算法问题\n",
    "\n",
    "e.g.   \n",
    "\n",
    "输入：nums=[2,7,11,15], target=9， 输出：[0，1]\n",
    "\n",
    "输入：nums=[3,2,4], target=6, 输出：[1,2]\n",
    "\n",
    "输入：nums=[3,3], target=6,  输出：[0,1]\n"
   ]
  },
  {
   "cell_type": "markdown",
   "metadata": {},
   "source": [
    "### 算法设计思路\n",
    "利用哈希表来记录数组元素及其对应的下标。遍历数组，对于每个元素 `nums[i]` ，计算 `target - nums[i]` ，并在哈希表中查找是否存在该值。如果存在，说明找到了两个数之和为 `target` ，直接返回这两个数对应的下标；如果不存在，将当前元素 `nums[i]` 及其下标 `i` 存入哈希表中\n",
    "### 时间复杂度分析\n",
    "代码中只使用了一层循环遍历数组，循环次数为数组的长度 `n` 。在每次循环中，哈希表的查找和插入操作平均时间复杂度都为 $O(1)$ 。所以整个算法的时间复杂度为 $O(n)$ 。 "
   ]
  },
  {
   "cell_type": "code",
   "execution_count": 6,
   "metadata": {},
   "outputs": [
    {
     "name": "stdout",
     "output_type": "stream",
     "text": [
      "[0, 1]\n",
      "[1, 2]\n",
      "[0, 1]\n"
     ]
    }
   ],
   "source": [
    "def twoSum(nums, target):\n",
    "    num_dict = {}\n",
    "    for i, num in enumerate(nums):\n",
    "        x = target - num\n",
    "        if x in num_dict:\n",
    "            return [num_dict[x], i]\n",
    "        num_dict[num] = i\n",
    "\n",
    "# 示例测试\n",
    "nums1 = [2, 7, 11, 15]\n",
    "target1 = 9\n",
    "\n",
    "nums2=[3,2,4]\n",
    "target2 = 6\n",
    "\n",
    "nums3=[3,3]\n",
    "target3= 6\n",
    "print(twoSum(nums1, target1))\n",
    "print(twoSum(nums2, target2))\n",
    "print(twoSum(nums3, target3))"
   ]
  },
  {
   "cell_type": "markdown",
   "metadata": {},
   "source": [
    "## 问题 3:   \n",
    "\n",
    "> 栈是一种常用的数据结构，编译器中通常使用栈来实现表达式求值。\n",
    ">\n",
    "> 以表达式 $3+5 \\times 8-6$​ 为例。编译器使用两个栈来完成运算，即一个栈保持操作数，另一个栈保存运算符。\n",
    ">\n",
    "> 1. 从左向右遍历表达式，遇到数字就压入操作数栈；\n",
    ">\n",
    "> 2. 遇到运算符，就与运算符栈的栈顶元素进行比较。如果比运算符栈顶元素的优先级高，就将当前运算符压入栈；如果比运算符栈顶元素的优先级低或者相同，从运算符栈中取栈顶运算符，从操作数栈的栈顶取 2 个操作数，然后进行计算，再把计算完的结果压入操作数栈，继续比较。\n",
    ">\n",
    "> 下图是 $3+5 \\times 8-6$  这个表达式的计算过程：\n",
    "\n",
    "![figure](./fig/hw2q3.png)\n",
    "\n",
    "根据上述原理，请设计一个算法完成表达式的运算，当输入为表达式字符串，返回对应的计算结果。分析算法设计思路，计算时间复杂度，并基于python编程实现\n",
    "\n",
    "**note：**\n",
    "\n",
    "1. 假设输入的表达式只会出现加（“+”），减 “-”， 乘“*”，除 “/” 四个运算符, 表达式中只会出现正整数\n",
    "2. python中` str.isdigit()`函数可以判断字符串str是否为数字，\n",
    "\n",
    "\n",
    "\n",
    "e.g. :\n",
    "---\n",
    "\n",
    "1. 输入：“$3+5 * 8 -6$”   输出：37\n",
    "\n",
    "2. 输入：“$34+13*9 + 44-12/3$”  输出：191"
   ]
  },
  {
   "cell_type": "markdown",
   "metadata": {},
   "source": [
    "idea：\n",
    "### 算法思路 \n",
    "计算表达式中，乘除运算优先于加减运算。我们可以先进行乘除运算，再将进行乘除运算后的整数值放入原表达式中相应位置，再依次计算加减。\n",
    "\n",
    "可以考虑使用一个栈来保存进行乘除运算后的整数值。正整数直接压入栈中，负整数，则将对应整数取负号，再压入栈中。这样最终计算结果就是栈中所有元素的和。\n",
    "\n",
    "具体做法：\n",
    "\n",
    "遍历字符串 s，使用变量 op 来标记数字之前的运算符，默认为 +。\n",
    "如果遇到数字，继续向后遍历，将数字进行累积，得到完整的整数 num。判断当前 op 的符号。\n",
    "如果 op 为 +，则将 num 压入栈中。\n",
    "如果 op 为 -，则将 -num 压入栈中。\n",
    "如果 op 为 *，则将栈顶元素 top 取出，计算 top * num，并将计算结果压入栈中。\n",
    "如果 op 为 /，则将栈顶元素 top 取出，计算 int(top / num)，并将计算结果压入栈中。\n",
    "如果遇到 +、-、*、/ 操作符，则更新 op。\n",
    "最后将栈中整数进行累加，并返回结果。\n",
    "1. **时间复杂度**： $O(n)$ 。\n",
    "2. **空间复杂度**： $O(n)$ 。\n",
    "\n",
    "\n"
   ]
  },
  {
   "cell_type": "code",
   "execution_count": null,
   "metadata": {},
   "outputs": [
    {
     "name": "stdout",
     "output_type": "stream",
     "text": [
      "37\n",
      "191\n"
     ]
    }
   ],
   "source": [
    "def calculate( s):\n",
    "    index = 0\n",
    "    stack = []\n",
    "    op = '+'\n",
    "    while index < len(s):\n",
    "        if s[index] == \" \":\n",
    "            index += 1\n",
    "            continue\n",
    "        if s[index].isdigit():\n",
    "            num = ord(s[index]) - ord('0')\n",
    "            while index + 1 < len(s) and s[index + 1].isdigit():\n",
    "                index += 1\n",
    "                num = num * 10 + ord(s[index]) - ord(\"0\")\n",
    "            if op == '+':\n",
    "                stack.append(num)\n",
    "            elif op == '-':\n",
    "                stack.append(-num)\n",
    "            elif op == '*':\n",
    "                top = stack.pop()\n",
    "                stack.append(num * top)\n",
    "            elif op == '/':\n",
    "                top = stack.pop() \n",
    "                # python2里 这里要这样处理 这里有个坑 (如果是-2/3=-1.5 python2中无法正确对负数向下取整 会等于-2 要先转为浮点数在用int截断小数部分)\n",
    "                stack.append(int(float(top) / num))\n",
    "        elif s[index] in '+-*/':\n",
    "            op = s[index]\n",
    "        index += 1\n",
    "    return sum(stack)\n",
    "\n",
    "s1 = \"3+5*8-6\"\n",
    "s2 = \"34+13*9 + 44-12/3\"\n",
    "print(calculate(s1))\n",
    "print(calculate(s2))"
   ]
  },
  {
   "cell_type": "markdown",
   "metadata": {},
   "source": [
    "## 问题 4:  \n",
    "\n",
    "> 星球碰撞问题：现有n个星球，在同一条直线上运行，如数组A所示，元素的绝对值表示星球的质量，负数表示星球自右向左运动，正数表示星球自左向右运动，当两个星球相撞的时候，质量小的会消失，大的保持不变，**质量相同的两个星球碰撞后自右向左运动的星球消失，自左向右的星球保持不变**，假设所有星球的速度大小相同。\n",
    ">\n",
    "> $ A=[23,-8, 9, -3, -7, 9, -23, 22] $\n",
    "\n",
    "请设计一个算法模拟星球的运行情况，输出最终的星球存续情况（输出一个数组），分析算法设计思路，计算时间复杂度，并基于python编程实现。\n",
    "\n",
    "e.g.\n",
    "---\n",
    "1.  输入： A=[-3,-6,2,8, 5,-8,9,-2,1]， 输出：[-3, -6, 2, 8, 9, 1]\n",
    "\n",
    "2. 输入：A=[23,-8, 9, -3, -7, 9, -23, 22], 输出：[23, 22]\n",
    "\n"
   ]
  },
  {
   "cell_type": "markdown",
   "metadata": {},
   "source": [
    "### 算法设计思路\n",
    "使用栈来模拟星球的碰撞过程。从左到右遍历数组，对于每个星球：\n",
    "- 如果栈为空，或者栈顶星球向右运动（正数 ），或者当前星球向左运动（负数 ），直接将当前星球入栈。\n",
    "- 当栈不为空，且栈顶星球向左运动（负数 ），当前星球向右运动（正数 ）时，就会发生碰撞。此时比较栈顶星球和当前星球的质量（元素绝对值 ）：\n",
    "    - 若栈顶星球质量小于当前星球质量，弹出栈顶元素，继续与新的栈顶元素比较（如果栈不为空 ），直到栈为空或者不满足碰撞条件。\n",
    "    - 若栈顶星球质量大于当前星球质量，当前星球消失，不做其他操作。\n",
    "    - 若两者质量相等，当前星球也消失。\n",
    "\n",
    "### 时间复杂度分析\n",
    "遍历数组一次，时间复杂度为 $O(n)$ ，其中 `n` 是数组的长度。在每次碰撞判断和处理过程中，虽然可能会有多次出栈操作，但总体上每个元素最多入栈和出栈一次，所以额外操作的时间复杂度也是线性的。因此，整个算法的时间复杂度为 $O(n)$ 。\n"
   ]
  },
  {
   "cell_type": "code",
   "execution_count": 21,
   "metadata": {},
   "outputs": [
    {
     "name": "stdout",
     "output_type": "stream",
     "text": [
      "[-3, -6, 2, 8, 9, 1]\n",
      "[23, 22]\n"
     ]
    }
   ],
   "source": [
    "def asteroid_collision(A):\n",
    "    stack = []\n",
    "    for num in A:\n",
    "        # 当栈不为空，且栈顶元素向右（正数），当前元素向左（负数）时，可能发生碰撞\n",
    "        while stack and stack[-1] > 0 and num < 0: \n",
    "            if abs(stack[-1]) < abs(num):\n",
    "                stack.pop()  # 栈顶星球消失，继续检查新栈顶\n",
    "                continue\n",
    "            elif abs(stack[-1]) == abs(num):\n",
    "                  # 质量相同，也是当前星球消失\n",
    "                break\n",
    "            else:\n",
    "                break  # 栈顶星球质量大，当前星球消失\n",
    "        else:\n",
    "            stack.append(num)  # 不发生碰撞，直接入栈\n",
    "    return stack\n",
    "\n",
    "\n",
    "A1=[-3,-6,2,8, 5,-8,9,-2,1]\n",
    "A2 = [23, -8, 9, -3, -7, 9, -23, 22]\n",
    "\n",
    "print(asteroid_collision(A1))\n",
    "print(asteroid_collision(A2))"
   ]
  },
  {
   "cell_type": "markdown",
   "metadata": {},
   "source": [
    "## 问题 5 \n",
    "\n",
    "> 给定一个无序数组nums=[9,-3,-10,0,9,7,33]，请建立一个二叉搜索树存储数组中的所有元素，之后删除二叉树中的元素“0”，再使用中序遍历输出二叉搜索树中的所有元素。\n",
    "\n",
    "使用python编程完成上述任务，并计算时间复杂度\n"
   ]
  },
  {
   "cell_type": "markdown",
   "metadata": {},
   "source": [
    "\n",
    "### 时间复杂度分析\n",
    "1. **构建二叉搜索树**：插入每个节点的操作平均时间复杂度为 $O(\\log n)$（$n$ 是节点数 ），这里插入 `n` 个节点，总体时间复杂度为 $O(n\\log n)$ 。在最坏情况下（树退化为链表 ），插入每个节点时间复杂度为 $O(n)$ ，构建树时间复杂度为 $O(n^2)$ 。\n",
    "2. **删除节点**：删除节点操作平均时间复杂度为 $O(\\log n)$ ，最坏情况为 $O(n)$ 。\n",
    "3. **中序遍历**：中序遍历每个节点一次，时间复杂度为 $O(n)$ 。\n",
    "\n",
    "整体时间复杂度为 $O(n\\log n)$ ，最坏情况下为 $O(n^2)$ 。 "
   ]
  },
  {
   "cell_type": "code",
   "execution_count": 22,
   "metadata": {},
   "outputs": [
    {
     "name": "stdout",
     "output_type": "stream",
     "text": [
      "[-10, -3, 7, 9, 9, 33]\n"
     ]
    }
   ],
   "source": [
    "class TreeNode:\n",
    "    def __init__(self, val=0, left=None, right=None):\n",
    "        self.val = val\n",
    "        self.left = left\n",
    "        self.right = right\n",
    "\n",
    "# 插入节点到二叉搜索树\n",
    "def insert(root, val):\n",
    "    if not root:\n",
    "        return TreeNode(val)\n",
    "    if val < root.val:\n",
    "        root.left = insert(root.left, val)\n",
    "    else:\n",
    "        root.right = insert(root.right, val)\n",
    "    return root\n",
    "\n",
    "# 删除节点\n",
    "def deleteNode(root, key):\n",
    "    if not root:\n",
    "        return None\n",
    "    if key < root.val:\n",
    "        root.left = deleteNode(root.left, key)\n",
    "    elif key > root.val:\n",
    "        root.right = deleteNode(root.right, key)\n",
    "    else:\n",
    "        if not root.left:\n",
    "            return root.right\n",
    "        elif not root.right:\n",
    "            return root.left\n",
    "        temp = root.right\n",
    "        while temp.left:\n",
    "            temp = temp.left\n",
    "        root.val = temp.val\n",
    "        root.right = deleteNode(root.right, temp.val)\n",
    "    return root\n",
    "\n",
    "# 中序遍历\n",
    "def inorderTraversal(root):\n",
    "    result = []\n",
    "    def inorder(root):\n",
    "        if root:\n",
    "            inorder(root.left)\n",
    "            result.append(root.val)\n",
    "            inorder(root.right)\n",
    "    inorder(root)\n",
    "    return result\n",
    "\n",
    "nums = [9, -3, -10, 0, 9, 7, 33]\n",
    "root = None\n",
    "for num in nums:\n",
    "    root = insert(root, num)\n",
    "\n",
    "root = deleteNode(root, 0)\n",
    "result = inorderTraversal(root)\n",
    "print(result)"
   ]
  },
  {
   "cell_type": "markdown",
   "metadata": {},
   "source": [
    "## 问题 6  \n",
    "\n",
    "> 给定一个包含大写字母和小写字母的字符串 s ，返回 字符串包含的 **最长的回文子串的长度** 。请注意 区分大小写 。比如 \"Aa\" 不能当做一个回文字符串。\n",
    ">\n",
    "\n",
    "请设计一个算法解决上述问题，只需要输出最长回文子串的长度，分析算法设计思路，计算时间复杂度，并基于python编程实现\n",
    "\n",
    "e.g. 输入： s=\"adccaccd\"，  输出：7。 最长回文子串为：\"dccaccd\", 长度为7\n"
   ]
  },
  {
   "cell_type": "markdown",
   "metadata": {},
   "source": [
    "idea：\n",
    "## 解题思路\n",
    "### 组回文字符串的过程，可以看作是从一个中心往旁边对称放字符的过程。先把给的字符串统计词频\n",
    "（1）对于所有的出现偶数次的字符，在组回文字符串的时候就是可以看作直接放置在中心两侧，有多少就直接加上去。\n",
    "\n",
    "（2）对于所有的出现奇数次的字符，那么实际上我们就可以看作是1 + 偶数次，偶数次统统可以加上去，剩下的都是单个的不同的字符，选一个作为中心。\n",
    "\n",
    "如果给的字符串的字符频次全是偶数次，那么肯定中心就不会是一个单一的字符，所以要加一个判断，如果出现了有字符是奇数次那么就+1，否则对于全是偶数次的字符，就不需要加1了。\n"
   ]
  },
  {
   "cell_type": "code",
   "execution_count": 21,
   "metadata": {},
   "outputs": [
    {
     "name": "stdout",
     "output_type": "stream",
     "text": [
      "7\n"
     ]
    }
   ],
   "source": [
    "def longestPalindrome(s):\n",
    "    count = {}\n",
    "    center = 0\n",
    "    res = 0\n",
    "    for x in s:\n",
    "        count[x] = count.get(x,0)+1\n",
    "\n",
    "    for i in count:\n",
    "        if count[i] %2:\n",
    "            center = 1\n",
    "            res += count[i] - 1\n",
    "        else:\n",
    "            res += count[i]\n",
    "    return res + center\n",
    "    \n",
    "\n",
    "s = \"abccccdd\"\n",
    "print(longestPalindrome(s))"
   ]
  },
  {
   "cell_type": "markdown",
   "metadata": {},
   "source": [
    "## 问题 7 \n",
    "\n",
    "> 沿一条长河流分散着n座房子。你可以把这条河想象成一条轴，房子是由它们在这条轴上的坐标按顺序排列的。你的公司想在河边的特定地点设置手机基站，这样每户人家都在距离基站4公里的范围内。输入可以看作为一个升序数组，数组元素的取值为大于等于0的正整数，你需要输出最小基站的数目，基站的位置。\n",
    "\n",
    "1. 给出一个时间复杂度为$O(n$) 的算法，使所使用的基站数量最小化，分析算法设计思路，使用python编程实现\n",
    "2. 证明1.中算法产生了最优解决方案。\n",
    "\n",
    "e.g. \n",
    "\n",
    "输入： [1, 5, 12, 33, 34,35]  输出：基站数目为3， 基站位置为[1，12，33]\n",
    "\n"
   ]
  },
  {
   "cell_type": "markdown",
   "metadata": {},
   "source": [
    "idea：\n",
    "这道题目要求我们在一条长河上设置手机基站，使得每户人家都在距离基站4公里的范围内，并且要使基站的数量最小化。我们需要设计一个时间复杂度为 \\(O(n)\\) 的算法来解决这个问题，并证明该算法是最优解。\n",
    "\n",
    "### 1. 算法设计思路\n",
    "\n",
    "1. **初始化**：从第一个房子开始，设置第一个基站的位置。\n",
    "2. **遍历房子**：对于每一个房子，检查它是否在当前基站的覆盖范围内（即距离当前基站不超过4公里）。\n",
    "3. **更新基站位置**：如果当前房子不在当前基站的覆盖范围内，则需要设置一个新的基站，并将新的基站位置设为当前房子的位置。\n",
    "4. **继续遍历**：重复上述步骤直到所有房子都被覆盖。\n",
    "\n",
    "### 3. 证明最优解\n",
    "\n",
    "###  反证法\n",
    "\n",
    "假设存在一个比上述算法产生的解更优的解决方案（即使用较少的基站）。根据我们的算法，每个基站都是放置在无法被现有基站覆盖的最左边房子的位置上。如果假设中的方案使用的基站数量少于我们的算法，那么至少有一个基站的位置与我们的算法不同。这意味着至少存在一个位置，该位置上的房子不能被假设方案中的任何一个基站覆盖，因为它们要么离所有基站的距离超过4公里，要么需要额外的基站来覆盖。这与我们的假设矛盾，说明不存在比我们算法生成的解更优的解。\n"
   ]
  },
  {
   "cell_type": "code",
   "execution_count": 28,
   "metadata": {},
   "outputs": [
    {
     "name": "stdout",
     "output_type": "stream",
     "text": [
      "基站数目为3, 基站位置为[1, 12, 33]\n"
     ]
    }
   ],
   "source": [
    "def min_base_stations(houses):\n",
    "    if not houses:\n",
    "        return 0, []\n",
    "\n",
    "    base_stations = []\n",
    "    current_station = houses[0]\n",
    "    base_stations.append(current_station)\n",
    "\n",
    "    for house in houses:\n",
    "        if house - current_station > 4:\n",
    "            current_station = house\n",
    "            base_stations.append(current_station)\n",
    "\n",
    "    return len(base_stations), base_stations\n",
    "\n",
    "# 示例输入\n",
    "houses = [1, 5, 12, 33, 34, 35]\n",
    "num_stations, stations = min_base_stations(houses)\n",
    "print(f\"基站数目为{num_stations}, 基站位置为{stations}\")"
   ]
  },
  {
   "cell_type": "markdown",
   "metadata": {},
   "source": [
    "## 问题 8  \n",
    "\n",
    "> 给定由n个正整数组成的一个集合$S = \\{a_1, a_2，···，a_n\\}$和一个正整数W，设计一个算法确定是否存在S的一个子集 $K \\subseteq S$, 使K中所有数之和为 $W$, 如果存在返回“True”，否则返回“False”\n",
    "\n",
    "请设计一个时间复杂度为$O(nW)$动态规划算法，解决上述问题，分析算法的设计思路，并且基于python编程实现（不需要输出子集）。\n",
    "\n",
    "e.g. \n",
    "\n",
    "输入：S = {1,4,7,3,5}， W = 11，输出：True。   因为K可以是{4,7}。\n",
    "\n"
   ]
  },
  {
   "cell_type": "markdown",
   "metadata": {},
   "source": [
    "idea：\n",
    "### 算法设计思路\n",
    "\n",
    "使用二维数组 `dp` 来表示状态，其中 `dp[i][j]` 表示前 `i` 个元素中是否存在一个子集，其和等于 `j`\n",
    "\n",
    "1. **初始化**：创建一个大小为 `(n+1) x (W+1)` 的二维布尔数组 `dp`，并将 `dp[0][0]` 设为 `True`，因为当没有元素时，只有和为0的情况是可行的。\n",
    "2. **状态转移方程**：\n",
    "   - 对于每个元素 `a[i-1]`（注意索引从1开始），有两种选择：包含它或不包含它。\n",
    "   - 如果不包含 `a[i-1]`，则 `dp[i][j] = dp[i-1][j]`。\n",
    "   - 如果包含 `a[i-1]`，则 `dp[i][j] = dp[i-1][j-a[i-1]]`，前提是 `j >= a[i-1]`。\n",
    "3. **结果**：最终答案在 `dp[n][W]` 中。\n",
    "\n",
    "\n",
    "### 分析\n",
    "\n",
    "- **时间复杂度**：\\(O(nW)\\)，其中 \\(n\\) 是集合 \\(S\\) 的长度，\\(W\\) 是目标和。\n",
    "- **空间复杂度**：\\(O(nW)\\)，使用了一个大小为 `(n+1) x (W+1)` 的二维数组。\n"
   ]
  },
  {
   "cell_type": "code",
   "execution_count": null,
   "metadata": {},
   "outputs": [
    {
     "name": "stdout",
     "output_type": "stream",
     "text": [
      "True\n"
     ]
    }
   ],
   "source": [
    "def subset_sum(S, W):\n",
    "    n = len(S)\n",
    "    # 初始化dp数组\n",
    "    dp = [[False] * (W + 1) for _ in range(n + 1)]\n",
    "     # 当没有元素时，只有和为0的情况是可行的\n",
    "    dp[0][0] = True  \n",
    "    \n",
    "    # 填充dp数组\n",
    "    for i in range(1, n + 1):\n",
    "        for j in range(W + 1):\n",
    "            if j < S[i - 1]:\n",
    "                dp[i][j] = dp[i - 1][j]\n",
    "            else:\n",
    "                dp[i][j] = dp[i - 1][j] or dp[i - 1][j - S[i - 1]]\n",
    "    \n",
    "    return dp[n][W]\n",
    "\n",
    "S = [1, 4, 7, 3, 5]\n",
    "W = 11\n",
    "print(subset_sum(S, W)) "
   ]
  },
  {
   "cell_type": "markdown",
   "metadata": {},
   "source": [
    "\n",
    "\n",
    "## 问题 9 \n",
    "\n",
    "> 给定一个n个物品的集合。物体的重量为$w_1, w_2，…、w_n$，物品的价值分别是$v_1、v_2、…v_n$。给你**两个**重量为 $c$ 的背包。如果你带了一个东西，它可以放在一个背包里，也可以放在另一个背包里，但不能同时放在两个背包里。所有权重和价值都是正整数。\n",
    "\n",
    "1. 设计一个时间复杂度为 $O(nc^2)$ 的动态规划算法，确定可以放入两个背包的物体的最大价值。分析算法设计思路，并基于python编程实现\n",
    "2. \\* 修改1中的算法，输出每个背包的内容（物品对应下标）。\n",
    "\n",
    "e.g.: \n",
    "\n",
    "输入 V=[1,3,2,5,8,7], W=[1,3,2,5,8,7], c=7, 输出：最大价值=14，背包装的物品为：[6] [4，3] （同一个背包中物品装入顺序对结果无影响）  \n"
   ]
  },
  {
   "cell_type": "markdown",
   "metadata": {},
   "source": [
    "idea：\n",
    "\n",
    "### 1. 算法设计思路\n",
    "\n",
    "定义一个三维数组 `dp[i][j][k]` 表示前 `i` 个物品在第一个背包容量为 `j` 和第二个背包容量为 `k` 时的最大价值。状态转移方程如下：\n",
    "\n",
    "- 不选择第 `i` 个物品：`dp[i][j][k] = dp[i-1][j][k]`\n",
    "- 将第 `i` 个物品放入第一个背包：`dp[i][j][k] = dp[i-1][j-w[i]][k] + v[i]` （如果 `j >= w[i]`）\n",
    "- 将第 `i` 个物品放入第二个背包：`dp[i][j][k] = dp[i-1][j][k-w[i]] + v[i]` （如果 `k >= w[i]`）\n",
    "\n",
    "最终答案是 `dp[n][c][c]`。"
   ]
  },
  {
   "cell_type": "code",
   "execution_count": null,
   "metadata": {},
   "outputs": [
    {
     "name": "stdout",
     "output_type": "stream",
     "text": [
      "14\n"
     ]
    }
   ],
   "source": [
    "def max_value_two_backpacks(V, W, c):\n",
    "    n = len(V)\n",
    "    dp = [[[0 for _ in range(c+1)] for _ in range(c+1)] for _ in range(n+1)]\n",
    "    \n",
    "    for i in range(1, n+1):\n",
    "        for j in range(c+1):\n",
    "            for k in range(c+1):\n",
    "                dp[i][j][k] = dp[i-1][j][k]\n",
    "                if j >= W[i-1]:\n",
    "                    dp[i][j][k] = max(dp[i][j][k], dp[i-1][j-W[i-1]][k] + V[i-1])\n",
    "                if k >= W[i-1]:\n",
    "                    dp[i][j][k] = max(dp[i][j][k], dp[i-1][j][k-W[i-1]] + V[i-1])\n",
    "    \n",
    "    return dp[n][c][c]\n",
    "\n",
    "V = [1, 3, 2, 5, 8, 7]\n",
    "W = [1, 3, 2, 5, 8, 7]\n",
    "c = 7\n",
    "print(max_value_two_backpacks(V, W, c))  "
   ]
  },
  {
   "cell_type": "markdown",
   "metadata": {},
   "source": [
    "### 2. 修改算法输出每个背包的内容\n",
    "\n",
    "为了输出每个背包的内容，我们需要回溯 `dp` 数组来确定哪些物品被放入了哪个背包。我们可以在计算 `dp` 数组的同时记录每个状态是由哪种情况转移过来的。"
   ]
  },
  {
   "cell_type": "code",
   "execution_count": 42,
   "metadata": {},
   "outputs": [
    {
     "name": "stdout",
     "output_type": "stream",
     "text": [
      "最大价值=14, 背包装的物品为：[6] [4, 3]\n"
     ]
    }
   ],
   "source": [
    "def max_value_two_backpacks_with_items(V, W, c):\n",
    "    n = len(V)\n",
    "    dp = [[[0 for _ in range(c + 1)] for _ in range(c + 1)] for _ in range(n + 1)]\n",
    "    # 初始化 parent 为 None 用于存储元组\n",
    "    parent = [[[None for _ in range(c + 1)] for _ in range(c + 1)] for _ in range(n + 1)]\n",
    "\n",
    "    for i in range(1, n + 1):\n",
    "        for j in range(c + 1):\n",
    "            for k in range(c + 1):\n",
    "                dp[i][j][k] = dp[i - 1][j][k]\n",
    "                parent[i][j][k] = (i - 1, j, k, 0)\n",
    "\n",
    "                if j >= W[i - 1] and dp[i - 1][j - W[i - 1]][k] + V[i - 1] > dp[i][j][k]:\n",
    "                    dp[i][j][k] = dp[i - 1][j - W[i - 1]][k] + V[i - 1]\n",
    "                    parent[i][j][k] = (i - 1, j - W[i - 1], k, 1)\n",
    "\n",
    "                if k >= W[i - 1] and dp[i - 1][j][k - W[i - 1]] + V[i - 1] > dp[i][j][k]:\n",
    "                    dp[i][j][k] = dp[i - 1][j][k - W[i - 1]] + V[i - 1]\n",
    "                    parent[i][j][k] = (i - 1, j, k - W[i - 1], 2)\n",
    "\n",
    "    def traceback(i, j, k):\n",
    "        items_in_bag1 = []\n",
    "        items_in_bag2 = []\n",
    "        while i > 0:\n",
    "            prev_i, prev_j, prev_k, bag = parent[i][j][k]\n",
    "            if bag == 1:\n",
    "                # 这里使用 i 作为物品下标\n",
    "                items_in_bag1.append(i)\n",
    "            elif bag == 2:\n",
    "                # 这里使用 i 作为物品下标\n",
    "                items_in_bag2.append(i)\n",
    "            i, j, k = prev_i, prev_j, prev_k\n",
    "        return items_in_bag1, items_in_bag2\n",
    "\n",
    "    max_val = dp[n][c][c]\n",
    "    items_in_bag1, items_in_bag2 = traceback(n, c, c)\n",
    "    return max_val, items_in_bag1, items_in_bag2\n",
    "\n",
    "\n",
    "V = [1, 3, 2, 5, 8, 7]\n",
    "W = [1, 3, 2, 5, 8, 7]\n",
    "c = 7\n",
    "max_val, bag1, bag2 = max_value_two_backpacks_with_items(V, W, c)\n",
    "print(f\"最大价值={max_val}, 背包装的物品为：{bag1} {bag2}\")"
   ]
  },
  {
   "cell_type": "markdown",
   "metadata": {},
   "source": [
    "## 问题 10 \n",
    "\n",
    "> 给定两个字符串 $x[1..n]$ 和 $y[1..m]$，我们想通过以下操作将 $x$ 变换为 $y$ :\n",
    ">\n",
    "> **插入**：在 $x$ 中插入一个字符(在任何位置)；**删除**：从 $x$ 中删除一个字符(在任何位置)； **替换**：用另一个字符替换 $x$ 中的一个字符。\n",
    ">\n",
    "> 例如: $x = abcd$, $y = bcfe$，\n",
    ">\n",
    "> - 将 $x$ 转换为 $y$ 的一种可能方法是：1. 删除 $x$ 开头的 $a$, $x$变成 $bcd$； 2. 将 $x$ 中的字符 $d$ 替换为字符 $f$。$x$ 变成 $bcf$； 3. 在 $x$ 的末尾插入字符 $e$。$x$ 变成 $bcfe$。\n",
    ">\n",
    "> - 另一种可能的方法：1. 删除 $x$ 开头的 $a$,  $x$ 变成 $bcd$； 2. 在 $x$ 中字符 $d$ 之前插入字符 $f$。$x$ 变成 $bcfd$。3. 将 $x$ 中的字符 $d$ 替换为字符 $e$。$x$ 变成 $bcfe$。\n",
    "\n",
    "设计一个时间复杂度为 $O(mn)$ 的算法，返回将 $x$ 转换为 $y$ 所需的最少操作次数。分析算法设计思路，并基于python编程实现。\n"
   ]
  },
  {
   "cell_type": "markdown",
   "metadata": {},
   "source": [
    "idea：\n",
    "### 算法设计思路\n",
    "构建一个二维数组 `dp` 来记录状态。设 `dp[i][j]` 表示将字符串 `x` 的前 `i` 个字符转换为字符串 `y` 的前 `j` 个字符所需的最少操作次数。\n",
    "\n",
    "- **初始化**：\n",
    "    - 当 `i = 0` 时，意味着要将空字符串转换为 `y` 的前 `j` 个字符，此时操作次数为 `j` 次插入操作，即 `dp[0][j] = j` 。\n",
    "    - 当 `j = 0` 时，意味着要将 `x` 的前 `i` 个字符转换为空字符串，此时操作次数为 `i` 次删除操作，即 `dp[i][0] = i` 。\n",
    "- **状态转移方程**：对于 `x` 的第 `i` 个字符（`x[i - 1]` ，数组下标从 0 开始 ）和 `y` 的第 `j` 个字符（`y[j - 1]` ） ：\n",
    "    - 若 `x[i - 1] == y[j - 1]` ，说明当前字符相同，不需要额外操作，`dp[i][j] = dp[i - 1][j - 1]` 。\n",
    "    - 若 `x[i - 1] != y[j - 1]` ，有三种操作选择：\n",
    "        - **插入操作**：在 `x` 中插入一个字符使其与 `y[j - 1]` 匹配，此时操作次数为 `dp[i][j - 1] + 1` （`dp[i][j - 1]` 是将 `x` 前 `i` 个字符转换为 `y` 前 `j - 1` 个字符的最少操作次数，加 1 是因为进行了一次插入操作 ）。\n",
    "        - **删除操作**：删除 `x` 的第 `i` 个字符，操作次数为 `dp[i - 1][j] + 1` 。\n",
    "        - **替换操作**：将 `x[i - 1]` 替换为 `y[j - 1]` ，操作次数为 `dp[i - 1][j - 1] + 1` 。\n",
    "        取这三种操作中的最小值，即 `dp[i][j] = min(dp[i][j - 1] + 1, dp[i - 1][j] + 1, dp[i - 1][j - 1] + 1)` 。\n",
    "- **最终结果**：`dp[n][m]` 就是将字符串 `x` 转换为字符串 `y` 所需的最少操作次数，其中 `n` 是字符串 `x` 的长度，`m` 是字符串 `y` 的长度。\n"
   ]
  },
  {
   "cell_type": "code",
   "execution_count": null,
   "metadata": {},
   "outputs": [
    {
     "ename": "SyntaxError",
     "evalue": "invalid syntax. Perhaps you forgot a comma? (3851249052.py, line 19)",
     "output_type": "error",
     "traceback": [
      "\u001b[1;36m  Cell \u001b[1;32mIn[44], line 19\u001b[1;36m\u001b[0m\n\u001b[1;33m    print(f\"将字符串 {x} 转换为字符串 {y} 所需的最少操作次数为:\"min_operations(x, y))\u001b[0m\n\u001b[1;37m          ^\u001b[0m\n\u001b[1;31mSyntaxError\u001b[0m\u001b[1;31m:\u001b[0m invalid syntax. Perhaps you forgot a comma?\n"
     ]
    }
   ],
   "source": [
    "def min_operations(x, y):\n",
    "    n, m = len(x), len(y)\n",
    "    dp = [[0] * (m + 1) for _ in range(n + 1)]\n",
    "    # 初始化边界情况\n",
    "    for i in range(n + 1):\n",
    "        dp[i][0] = i\n",
    "    for j in range(m + 1):\n",
    "        dp[0][j] = j\n",
    "    for i in range(1, n + 1):\n",
    "        for j in range(1, m + 1):\n",
    "            if x[i - 1] == y[j - 1]:\n",
    "                dp[i][j] = dp[i - 1][j - 1]\n",
    "            else:\n",
    "                dp[i][j] = min(dp[i][j - 1] + 1, dp[i - 1][j] + 1, dp[i - 1][j - 1] + 1)\n",
    "    return dp[n][m]\n",
    "\n",
    "x = \"abcd\"\n",
    "y = \"bcfe\"\n",
    "print(f\"将字符串 {x} 转换为字符串 {y} 所需的最少操作次数为:{min_operations(x, y)}\")"
   ]
  }
 ],
 "metadata": {
  "kernelspec": {
   "display_name": "base",
   "language": "python",
   "name": "python3"
  },
  "language_info": {
   "codemirror_mode": {
    "name": "ipython",
    "version": 3
   },
   "file_extension": ".py",
   "mimetype": "text/x-python",
   "name": "python",
   "nbconvert_exporter": "python",
   "pygments_lexer": "ipython3",
   "version": "3.11.7"
  }
 },
 "nbformat": 4,
 "nbformat_minor": 2
}
