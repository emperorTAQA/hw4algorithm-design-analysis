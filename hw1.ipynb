{
 "cells": [
  {
   "cell_type": "markdown",
   "metadata": {},
   "source": [
    "## algorithm design and anlysis-2025 spring  homework 1 \n",
    "**Deadline**：2025.5.14\n",
    "\n",
    "**name**:\n",
    "\n",
    "\n",
    "note：\n",
    "---\n",
    "1. 带有\\*的题目，申请免上课的同学，必须完成，其他同学选作；\n",
    "2. 请独立完成，如求助了他人或者大模型，请著明，并且不可省略算法分析部分；\n",
    "4. 如若作答有雷同，全部取消成绩；\n",
    "3. 需要书面作答的题目，可以通过引用图片的形式添加，但是注意上传项目时包含所引用的图片的源文件；\n",
    "4. $log_n$ 默认表示$log_2{n}$;"
   ]
  },
  {
   "cell_type": "markdown",
   "metadata": {},
   "source": [
    "## 问题 1\n",
    "\n",
    "对于下面的每一对表达式(A, B), A是否能表示为B的 $\\Theta, \\Omega ,O$形式. 请注意, 这些关系中的零个、一个或多个可能成立。列出所有正确的。经常发生一些学生会,把指示写错, 所以请把关系写完整, 例如: $A = O(B),  A =\\Theta(B)$, 或$A = \\Omega(B)$。\n",
    "\n",
    "1. $A=n^2-100n, B=n^2$\n",
    "2. $A=logn, B=log_{1.2}n$\n",
    "3. $A=3^{2n}, B=2^{4n}$\n",
    "4. $A=2^{logn}, B=n$\n",
    "5. $A=\\log{\\log}{n},B=10^{10^{100}}$"
   ]
  },
  {
   "cell_type": "markdown",
   "metadata": {},
   "source": [
    "can refer a handwritten picture, pleas upload the picture in /fig/xxx.png\n",
    "answer:\n"
   ]
  },
  {
   "cell_type": "markdown",
   "metadata": {},
   "source": [
    "## 问题 2：\n",
    "\n",
    "假设有函数 $f$ 和 $g$ 使得 $f(n)$ = $O(g(n))$ 对于下面的每一个陈述, 请判断对错, 如果正确请给出证明, 否则请给出一个反例。\n",
    "\n",
    "1. $\\log{f(n)}$ = $O(\\log(1+g(n)))$\n",
    "2. $3^{f(n)}=O(3^{g(n)})$\n",
    "3. $(f(n))^2=O((g(n))^2)$ "
   ]
  },
  {
   "cell_type": "markdown",
   "metadata": {},
   "source": [
    "you can refer a handwritten picture, pleas upload the picture in /fig/xxx.png\n",
    "answer:"
   ]
  },
  {
   "cell_type": "markdown",
   "metadata": {},
   "source": [
    "## 问题 3\n",
    "\n",
    "根据下列递归公式, 计算下列 $T(n)$ 对应的的渐近上界。要求所求的边界尽可能的紧（tight）, 请写明步骤。\n",
    "\n",
    "1. $T(1)=1; T(n)=T(n/4)+1$ for $n>1$\n",
    "2. $T(1)=1;T(n)=3T(n/3)+n^2$ for $n>1$\n",
    "3. $T(1)=1;T(n)=T(2n/3)+1$ for $n>1$\n",
    "4. $T(1)=1;T(n)=5T(n/4)+n$ for $n>1$\n",
    "5. $T(n)=1 \\ for\\ n \\le 2 ; T(n)=T(\\sqrt{n})+1 \\ for \\ n>2$"
   ]
  },
  {
   "cell_type": "markdown",
   "metadata": {},
   "source": [
    "can refer a handwritten picture, pleas upload the picture in /fig/xxx.png\n",
    "answer:"
   ]
  },
  {
   "cell_type": "markdown",
   "metadata": {},
   "source": [
    "## 问题 4：\n",
    "\n",
    "给定一个包含n个元素的数组 `profits` , 它的第 `i` 个元素 `profits[i]` 表示一支股票第 `i` 天的**收益**（正数表示涨, 负数表示跌）。你只能选择 **某一天** 买入这只股票, 并选择在 **未来的某一个不同的日子** 卖出该股票。\n",
    "\n",
    "1. 设计一个算法来计算你所能获取的最大利润和对应买入和卖出的日期。请分析算法方案, 计算其时间复杂度, 并且使用python编程实现该算法。\n",
    "\n",
    "2. \\* 设计一个时间复杂度为 $O(n)$的算法实现该算法\n",
    "\n",
    "e.g. :\n",
    "---\n",
    "profits=[3,2,1,-7,5,2,-1,3,-1], 第5天买入, 第8天卖出, 收益最大：9\n",
    "\n"
   ]
  },
  {
   "cell_type": "markdown",
   "metadata": {},
   "source": [
    "idea:"
   ]
  },
  {
   "cell_type": "markdown",
   "metadata": {},
   "source": [
    "\n",
    "- **算法思路**：暴力遍历所有可能的买入和卖出日期组合。对于包含 `n` 个元素的数组，通过两层循环，外层循环控制买入日期 `i` ，内层循环控制卖出日期 `j`（`j > i` ），计算每种组合下的利润 `sum(profits[i:j+1])` ，记录最大利润以及对应的买入和卖出日期。\n",
    "- **时间复杂度分析**：两层循环，外层循环 `n` 次，内层循环最多 `n - 1` 次，所以时间复杂度为 $O(n^2)$ 。"
   ]
  },
  {
   "cell_type": "code",
   "execution_count": null,
   "metadata": {},
   "outputs": [
    {
     "name": "stdout",
     "output_type": "stream",
     "text": [
      "买入日期: 5,  卖出日期: 8,最大利润: 9\n"
     ]
    }
   ],
   "source": [
    "def max_profit_brute_force(profits):\n",
    "    n = len(profits)\n",
    "    max_profit = float('-inf')\n",
    "    buy_date = sell_date = 0\n",
    "    for i in range(n):\n",
    "        for j in range(i + 1, n):\n",
    "            current_profit = sum(profits[i:j + 1])\n",
    "            if current_profit > max_profit:\n",
    "                max_profit = current_profit\n",
    "                buy_date = i + 1\n",
    "                sell_date = j + 1\n",
    "    return max_profit, buy_date, sell_date\n",
    "\n",
    "profits = [3, 2, 1, -7, 5, 2, -1, 3, -1]\n",
    "max_profit, buy_date, sell_date = max_profit_brute_force(profits)\n",
    "print(f\"买入日期: {buy_date}, 卖出日期: {sell_date},最大利润: {max_profit}\")"
   ]
  },
  {
   "cell_type": "markdown",
   "metadata": {},
   "source": [
    "##  时间复杂度为 $O(n)$ 的算法设计\n",
    "- **算法思路**\n",
    "从左到右遍历数组 `profits` ，用一个变量记录当前遇到的最小收益值，每遍历到一个新元素，计算当前元素与最小收益值差值（相当于以当前位置卖出，之前最小收益位置买入的利润），并与已记录的最大利润比较，若更大则更新最大利润以及对应的买入和卖出日期。整个过程只需对数组进行一次遍历。\n",
    "- **时间复杂度分析**\n",
    "由于仅需遍历数组一次，时间复杂度为 $O(n)$ "
   ]
  },
  {
   "cell_type": "code",
   "execution_count": 7,
   "metadata": {},
   "outputs": [
    {
     "name": "stdout",
     "output_type": "stream",
     "text": [
      "买入日期: 5,  卖出日期: 8, 最大利润: 9\n"
     ]
    }
   ],
   "source": [
    "def max_profit_linear_alternative(profits):\n",
    "    n = len(profits)\n",
    "    if n == 0:\n",
    "        return 0, 0, 0\n",
    "    min_profit_index = 0\n",
    "    max_profit = float('-inf')\n",
    "    buy_date = sell_date = 0\n",
    "    current_profit = 0\n",
    "    for i in range(n):\n",
    "        if current_profit <= 0:\n",
    "            min_profit_index = i\n",
    "            current_profit = profits[i]\n",
    "        else:\n",
    "            current_profit += profits[i]\n",
    "\n",
    "        if current_profit > max_profit:\n",
    "            max_profit = current_profit\n",
    "            buy_date = min_profit_index + 1\n",
    "            sell_date = i + 1\n",
    "\n",
    "    return max_profit, buy_date, sell_date\n",
    "\n",
    "\n",
    "profits = [3, 2, 1, -7, 5, 2, -1, 3, -1]\n",
    "max_profit, buy_date, sell_date = max_profit_linear_alternative(profits)\n",
    "print(f\"买入日期: {buy_date},  卖出日期: {sell_date}, 最大利润: {max_profit}\")\n",
    "    "
   ]
  },
  {
   "cell_type": "markdown",
   "metadata": {},
   "source": [
    "## 问题 5：\n",
    "\n",
    "观察下方的分治算法（divide-and-conquer algorithm）的伪代码, 回答下面问题\n",
    "\n",
    "```latex\n",
    "DoSomething(A,p,r)\n",
    "-----\n",
    "n := r-p+1\n",
    "if n=2 and A[p]>A[r] then\n",
    "    swap A[p] and A[r]\n",
    "else if n >= 3 then\n",
    "    m = ceil(2n/3)\n",
    "    DoSomething(A,p,p+m-1)\n",
    "    DoSomething(A,r-m+1,r)\n",
    "    DoSomething(A,p,p+m-1)  \n",
    "    \n",
    "---\n",
    "first call: DoSomething(A,1,n)\n",
    "```\n",
    "\n",
    "note：$ceil(2n/3)=\\left\\lceil {2n/3} \\right\\rceil$；$:=$ 表示赋值, 等价于 $\\to$；A是一个包含n的整数元素的数组, \n",
    "\n",
    "1. 写出该算法时间复杂度的递归公式, 并求解其对应的渐进表示\n",
    "2. 描述一下该算法的功能, 并判断是否是最高效的解决方案\n",
    "3. 使用python编程实现上述算法或其对应的更高效版本的算法\n"
   ]
  },
  {
   "cell_type": "markdown",
   "metadata": {},
   "source": [
    "idea："
   ]
  },
  {
   "cell_type": "markdown",
   "metadata": {},
   "source": [
    "### 1. 时间复杂度分析\n",
    " - **递归公式**：\n",
    "当 $n \\geq 3$ 时，算法将问题规模为 $n$ 的问题划分为三个规模约为 $\\frac{2n}{3}$ 的子问题，每次递归调用除了子问题的递归开销外，额外操作的时间复杂度为常数级 $O(1)$ 。所以时间复杂度的递归公式为 $T(n)=3T(\\frac{2n}{3}) + O(1)$ ，当 $n = 2$ 时，$T(2)=O(1)$  ，当 $n = 1$ 时，$T(1)=O(1)$ 。\n",
    " - **求解渐进表示**：\n",
    "根据主定理（Master Theorem），对于递归式 $T(n) = aT(\\frac{n}{b}) + f(n)$ （这里 $a = 3$，$b=\\frac{3}{2}$ ，$f(n)=O(1)$ ），计算 $n^{\\log_b a}=n^{\\log_{\\frac{3}{2}} 3}$  。因为 $\\log_{\\frac{3}{2}} 3>0$ ，$f(n)=O(1)$ 属于 $O(n^k)$ 形式（$k = 0$ ），且 $n^{\\log_{\\frac{3}{2}} 3}>n^0$ ，满足主定理的第一种情况，所以 $T(n)=\\Theta(n^{\\log_{\\frac{3}{2}} 3})\\approx\\Theta(n^{2.7095})$ 。 \n",
    "\n",
    "### 2. 算法功能及效率判断\n",
    " - **功能描述**：\n",
    "该算法是分治算法。当问题规模 $n = 2$ 时，比较数组两端元素，若左边大于右边则交换，实现对这两个元素的排序；当 $n \\geq 3$ 时，将数组划分为三个部分，分别对数组前 $\\frac{2n}{3}$ 个元素、后 $\\frac{2n}{3}$ 个元素、以及前 $\\frac{2n}{3}-1$ 个元素递归调用自身。整体可能是一种特殊的排序或者数组元素调整算法，尝试通过分治策略对数组元素进行某种顺序调整。 \n",
    " - **效率判断**：\n",
    "不是最高效的解决方案。以排序问题为例，常见的高效排序算法如快速排序、归并排序时间复杂度平均为 $O(n \\log n)$ ，而此算法时间复杂度为 $\\Theta(n^{\\log_{\\frac{3}{2}} 3})$ ，在渐进意义下比 $O(n \\log n)$ 要大，所以效率相对较低。\n"
   ]
  },
  {
   "cell_type": "markdown",
   "metadata": {},
   "source": [
    "answer:"
   ]
  },
  {
   "cell_type": "code",
   "execution_count": 11,
   "metadata": {},
   "outputs": [
    {
     "name": "stdout",
     "output_type": "stream",
     "text": [
      "[1, 2, 2, 3, 4, 4, 5, 6, 7]\n"
     ]
    }
   ],
   "source": [
    "import math\n",
    "\n",
    "\n",
    "def do_something(A, p, r):\n",
    "    n = r - p + 1\n",
    "    if n == 2 and A[p] > A[r]:\n",
    "        A[p], A[r] = A[r], A[p]\n",
    "    elif n >= 3:\n",
    "        m = math.ceil(2 * n / 3)\n",
    "        do_something(A, p, p + m - 1)\n",
    "        do_something(A, r - m + 1, r)\n",
    "        do_something(A, p, p + m - 1)\n",
    "    return A\n",
    "\n",
    "\n",
    "A = [5, 4, 3, 2, 1,6,7,4,2]\n",
    "result = do_something(A, 0, len(A) - 1)\n",
    "print(result)"
   ]
  },
  {
   "cell_type": "markdown",
   "metadata": {},
   "source": [
    "### 1. 更高效版本 （归并排序）"
   ]
  },
  {
   "cell_type": "code",
   "execution_count": 12,
   "metadata": {},
   "outputs": [
    {
     "name": "stdout",
     "output_type": "stream",
     "text": [
      "[1, 2, 2, 3, 4, 4, 5, 6, 7]\n"
     ]
    }
   ],
   "source": [
    "def merge_sort(A):\n",
    "    if len(A) <= 1:\n",
    "        return A\n",
    "    mid = len(A) // 2\n",
    "    left = merge_sort(A[:mid])\n",
    "    right = merge_sort(A[mid:])\n",
    "    return merge(left, right)\n",
    "\n",
    "\n",
    "def merge(left, right):\n",
    "    merged = []\n",
    "    i = j = 0\n",
    "    while i < len(left) and j < len(right):\n",
    "        if left[i] < right[j]:\n",
    "            merged.append(left[i])\n",
    "            i += 1\n",
    "        else:\n",
    "            merged.append(right[j])\n",
    "            j += 1\n",
    "    merged.extend(left[i:])\n",
    "    merged.extend(right[j:])\n",
    "    return merged\n",
    "\n",
    "A = [5, 4, 3, 2, 1,6,7,4,2]\n",
    "result = merge_sort(A)\n",
    "print(result)"
   ]
  },
  {
   "cell_type": "markdown",
   "metadata": {},
   "source": [
    "## 问题 6：\n",
    "\n",
    "给定一个大小为 `n` 的数组 `nums` , 返回其中的多数元素。多数元素是指在数组中出现次数 **大于** `⌊ n/2 ⌋` 的元素。\n",
    "\n",
    "你可以假设数组是非空的, 并且给定的数组总是存在多数元素。\n",
    "\n",
    "1. 设计一个算法找到给定数组的多数元素, 分析算法设计思路, 计算算法时间复杂度, 使用python编程实现\n",
    "2. \\* 设计时间复杂度为 O(n)、空间复杂度为 O(1) 的算法解决此问题, 分析算法设计思路, 使用python编程实现\n",
    "\n",
    "e.g.:\n",
    "---\n",
    "1. nums=[3,2,3], 返回3\n",
    "2. nums=[2,2,1,1,1,2,2], 返回2\n"
   ]
  },
  {
   "cell_type": "markdown",
   "metadata": {},
   "source": [
    "idea："
   ]
  },
  {
   "cell_type": "markdown",
   "metadata": {},
   "source": [
    "\n",
    "\n",
    "思路\n",
    "因为出现次数最多的数一定超过长度的一半，排序之后取中间的数，如果满足题意则该数一定是出现次数最多的\n",
    "### 复杂度分析\n",
    "- **时间复杂度**：Python 里，内置的 sort() 时间复杂度为 $O(n \\log n)$\n",
    "- **空间复杂度**：$O( n)$。 "
   ]
  },
  {
   "cell_type": "code",
   "execution_count": 16,
   "metadata": {},
   "outputs": [
    {
     "name": "stdout",
     "output_type": "stream",
     "text": [
      "2\n"
     ]
    }
   ],
   "source": [
    "def majorityElement(nums):\n",
    "    nums.sort()\n",
    "    return nums[len(nums)//2]\n",
    "# nums = [3,2,3]  -> 3\n",
    "nums = [2,2,1,1,1,2,2] \n",
    "print(majorityElement(nums))"
   ]
  },
  {
   "cell_type": "markdown",
   "metadata": {},
   "source": [
    "idea for 2\\*："
   ]
  },
  {
   "cell_type": "markdown",
   "metadata": {},
   "source": [
    "\n",
    "\n",
    "### 2. 时间复杂度 $O(n)$ 、空间复杂度 $O(1)$ 的算法（摩尔投票法）\n",
    "- **思路**：多数元素在数组中出现的次数超过一半，意味着它出现的次数比其他所有元素出现次数的总和还要多。我们可以维护一个候选元素 `candidate` 和它的计数值 `count` 。遍历数组时，若 `count` 为 0 ，则将当前元素设为 `candidate` 并将 `count` 设为 1 ；若当前元素等于 `candidate` ，则 `count` 加 1 ，否则 `count` 减 1 。遍历结束后，`candidate` 即为多数元素。\n",
    "- **时间复杂度**：只需要遍历数组一次，时间复杂度为 $O(n)$ 。\n",
    "- **空间复杂度**：只使用了常数个额外变量（`candidate` 和 `count` ），空间复杂度为 $O(1)$ 。"
   ]
  },
  {
   "cell_type": "code",
   "execution_count": null,
   "metadata": {},
   "outputs": [
    {
     "name": "stdout",
     "output_type": "stream",
     "text": [
      "2\n"
     ]
    }
   ],
   "source": [
    "def majority_element(nums):\n",
    "    candidate = None\n",
    "    count = 0\n",
    "    for num in nums:\n",
    "        if count == 0:\n",
    "            candidate = num\n",
    "            count = 1\n",
    "        elif num == candidate:\n",
    "            count += 1\n",
    "        else:\n",
    "            count -= 1\n",
    "    return candidate\n",
    "# nums = [3,2,3]  -> 3\n",
    "nums = [2, 2, 1, 1, 1, 2, 2]\n",
    "print(majority_element(nums))"
   ]
  },
  {
   "cell_type": "markdown",
   "metadata": {},
   "source": [
    "## 问题 7：\n",
    "\n",
    "给定一个包含不同整数元素的数组 $ A[1..n]$ ,并且满足条件：$A[1]>A[2]$ 并且 $A[n-1]<A[n]$; 规定：如果一个元素比它两边的邻居元素都小, 即：$A[x]<A[x-1], A[x]<A[x+1]$ , 称这个元素A[x]为“局部最小”。通过遍历一次数组, 我们可以很容易在 $O(n)$的时间复杂度下找到一个局部最小值, \n",
    "\n",
    "\n",
    "1. 分析该问题, 设计一个算法在$O(logn)$的时间复杂度下找到一个局部最小(返回数值), 要求：分析算法设计思路, 并且使用python编程实现\n",
    "2. \\* 设计算法找出所有局部最小值, 分析算法设计思路, 并使用python编程实现\n",
    "\n",
    "e.g.:\n",
    "---\n",
    "A=[9, 3, 7, 2, 1, 4, 5 ] 时,  局部最小元素为 3, 1\n"
   ]
  },
  {
   "cell_type": "markdown",
   "metadata": {},
   "source": [
    "### 1. 时间复杂度为 $O(\\log n)$ 找一个局部最小值\n",
    "- **算法设计思路**：利用二分查找的思想。因为已知 $A[1] > A[2]$ 且 $A[n - 1] < A[n]$ ，数组两端具有递减和递增的趋势。取数组中间元素 $A[mid]$ ，比较 $A[mid]$ 与它相邻元素 $A[mid - 1]$ 和 $A[mid + 1]$ ：\n",
    "    - 若 $A[mid]$ 是局部最小，直接返回。\n",
    "    - 若 $A[mid] > A[mid - 1]$ ，说明在左半部分存在局部最小（因为数组两端趋势保证了一定有局部最小，左半部分有递减趋势 ），则在左半部分继续二分查找。\n",
    "    - 若 $A[mid] > A[mid + 1]$ ，说明在右半部分存在局部最小，在右半部分继续二分查找。"
   ]
  },
  {
   "cell_type": "code",
   "execution_count": null,
   "metadata": {},
   "outputs": [
    {
     "name": "stdout",
     "output_type": "stream",
     "text": [
      "1\n"
     ]
    }
   ],
   "source": [
    "def find_local_minimum(A):\n",
    "    # 第一个和末尾的不可能是 \n",
    "    left, right = 1, len(A) - 2\n",
    "    while left <= right:\n",
    "        mid = left + (right - left) // 2\n",
    "        if A[mid] < A[mid - 1] and A[mid] < A[mid + 1]:\n",
    "            return A[mid]\n",
    "        elif A[mid] > A[mid - 1]:\n",
    "            right = mid - 1\n",
    "        else:\n",
    "            left = mid + 1\n",
    "    return min(A[left], A[right])\n",
    "\n",
    "A = [9, 3, 7, 2, 1, 4, 5]\n",
    "print(find_local_minimum(A))"
   ]
  },
  {
   "cell_type": "markdown",
   "metadata": {},
   "source": [
    "### 2. 找出所有局部最小值\n",
    "- **算法设计思路**：直接遍历数组，依次检查每个元素是否比它两边的邻居元素都小。对于数组两端的元素，只需要和相邻的一个元素比较。由于题目条件 $A[1] > A[2]$ 且 $A[n - 1] < A[n]$ ，两端元素也可能是局部最小。"
   ]
  },
  {
   "cell_type": "code",
   "execution_count": 20,
   "metadata": {},
   "outputs": [
    {
     "name": "stdout",
     "output_type": "stream",
     "text": [
      "[3, 1]\n"
     ]
    }
   ],
   "source": [
    "def find_all_local_minimums(A):\n",
    "    result = []\n",
    "    if A[1] > A[0]:\n",
    "        result.append(A[0])\n",
    "    for i in range(1, len(A) - 1):\n",
    "        if A[i] < A[i - 1] and A[i] < A[i + 1]:\n",
    "            result.append(A[i])\n",
    "    if A[-2] > A[-1]:\n",
    "        result.append(A[-1])\n",
    "    return result\n",
    "\n",
    "A = [9, 3, 7, 2, 1, 4, 5]\n",
    "print(find_all_local_minimums(A))"
   ]
  },
  {
   "cell_type": "markdown",
   "metadata": {},
   "source": [
    "## 问题 8：\n",
    "\n",
    "给定包含n个不同数字的一组数, 寻找一种基于比较的算法在这组数中找到k个最小的数字, 并按顺序输出它们。\n",
    "\n",
    "1. 将n个数先进行排序, 然后按顺序输出最小的k个数。要求：选择合适的排序算法实现上述操作, 计算算法时间复杂度, 并使用python编程实现。\n",
    "2. 建立一个包含这n个数的堆（heap）, 并且调用 k 次Extract-min 按顺序输出最小的k个数。使用往空堆中不断插入元素的方法建立堆, 分析这种方法建堆的时间复杂度, 并使用python编程实现\n",
    "3. \\* 假设数组中包含的数据总数目超过了计算机的存储能力, 请设计一个算法, 找到这堆数据的前k小的数值, 计算时间复杂度, 并使用python实现该算法, 假设计算机一定能存储k个数据。\n",
    "\n",
    "e.g.：\n",
    "---\n",
    "数组arr=[5,4,3,2,6,1,88,33,22,107] 的前3个最小数据为：1, 2, 3\n"
   ]
  },
  {
   "cell_type": "markdown",
   "metadata": {},
   "source": [
    "idea："
   ]
  },
  {
   "cell_type": "markdown",
   "metadata": {},
   "source": [
    "### 1. 基于排序找最小的k个数\n",
    "- **排序算法选择及思路**：选择快速排序，它是一种高效的排序算法。其基本思想是通过一趟排序将待排记录分割成独立的两部分，其中一部分记录的关键字均比另一部分的关键字小，然后分别对这两部分记录继续进行排序，以达到整个序列有序。对给定的包含 `n` 个数的数组进行快速排序后，直接取前 `k` 个元素就是最小的 `k` 个数。\n",
    "- **时间复杂度分析**：快速排序平均时间复杂度为 $O(n \\log n)$ "
   ]
  },
  {
   "cell_type": "code",
   "execution_count": 24,
   "metadata": {},
   "outputs": [
    {
     "name": "stdout",
     "output_type": "stream",
     "text": [
      "[1, 2, 3]\n"
     ]
    }
   ],
   "source": [
    "# 找切分索引\n",
    "def partition(nums, left, right):\n",
    "    pivot = nums[left]\n",
    "    i, j = left, right\n",
    "    while i < j:\n",
    "        while i < j and nums[j] >= pivot:\n",
    "            j -= 1\n",
    "        nums[i] = nums[j]\n",
    "        while i < j and nums[i] <= pivot:\n",
    "            i += 1\n",
    "        nums[j] = nums[i]\n",
    "    nums[i] = pivot\n",
    "    return i\n",
    "\n",
    "# 快排\n",
    "def quicksort(nums, left, right):\n",
    "    if left < right:\n",
    "        index = partition(nums, left, right)\n",
    "        quicksort(nums, left, index - 1)\n",
    "        quicksort(nums, index + 1, right)\n",
    "\n",
    "def find_k_smallest_sort(arr, k, left, right):\n",
    "    quicksort(arr, left, right)\n",
    "    return arr[:k]\n",
    "\n",
    "arr = [5, 4, 3, 2, 6, 1, 88, 33, 22, 107]\n",
    "k = 3\n",
    "print(find_k_smallest_sort(arr, k, 0, len(arr) - 1))"
   ]
  },
  {
   "cell_type": "markdown",
   "metadata": {},
   "source": [
    "### 2. 基于堆找最小的k个数\n",
    "- **建堆思路及时间复杂度分析**：使用小顶堆，往空堆中不断插入元素来建堆。每次插入元素到堆中时，需要进行调整以维持堆的性质（小顶堆要求父节点小于子节点 ）。插入一个元素的时间复杂度为 $O(\\log n)$ ，插入 `n` 个元素建堆，时间复杂度为 $O(n \\log n)$ 。之后调用 `k` 次 `Extract - min` 操作，每次 `Extract - min` 操作时间复杂度为 $O(\\log n)$ ，所以这部分时间复杂度为 $O(k \\log n)$ ，总体时间复杂度为 $O(n \\log n + k \\log n)=O((n + k)\\log n)$ ，因为 $k \\leq n$ ，可近似为 $O(n \\log n)$ 。"
   ]
  },
  {
   "cell_type": "code",
   "execution_count": 27,
   "metadata": {},
   "outputs": [
    {
     "name": "stdout",
     "output_type": "stream",
     "text": [
      "[1, 2, 3]\n"
     ]
    }
   ],
   "source": [
    "import heapq\n",
    "\n",
    "def find_k_smallest_heap(arr, k):\n",
    "    heap = []\n",
    "    for num in arr:\n",
    "        heapq.heappush(heap, num)\n",
    "    result = []\n",
    "    for _ in range(k):\n",
    "        result.append(heapq.heappop(heap))\n",
    "    return result\n",
    "\n",
    "arr = [5, 4, 3, 2, 6, 1, 88, 33, 22, 107]\n",
    "k = 3\n",
    "print(find_k_smallest_heap(arr, k))"
   ]
  },
  {
   "cell_type": "markdown",
   "metadata": {},
   "source": [
    "### 3. 大数据量下找最小的k个数\n",
    "- **算法思路**：维护一个大小为 `k` 的大顶堆。遍历数据（假设可以逐个读取 ），对于每个元素，若它小于堆顶元素，则替换堆顶元素，并调整堆以维持大顶堆性质（堆顶是堆中最大元素 ）。遍历完所有数据后，堆中的元素就是前 `k` 小的数值。\n",
    "- **时间复杂度分析**：假设数据总数为 `N` ，每次调整堆时间复杂度为 $O(\\log k)$ ，遍历 `N` 个数据，总体时间复杂度为 $O(N \\log k)$ 。"
   ]
  },
  {
   "cell_type": "code",
   "execution_count": 26,
   "metadata": {},
   "outputs": [
    {
     "name": "stdout",
     "output_type": "stream",
     "text": [
      "[3, 2, 1]\n"
     ]
    }
   ],
   "source": [
    "import heapq\n",
    "\n",
    "def find_k_smallest_large_data(arr, k):\n",
    "    heap = []\n",
    "    for num in arr:\n",
    "        if len(heap) < k:\n",
    "            heapq.heappush(heap, -num)  # 用负数模拟大顶堆\n",
    "        elif -num > heap[0]:\n",
    "            heapq.heapreplace(heap, -num)\n",
    "    return [-x for x in heap]\n",
    "\n",
    "arr = [5, 4, 3, 2, 6, 1, 88, 33, 22, 107]\n",
    "k = 3\n",
    "print(find_k_smallest_large_data(arr, k))"
   ]
  },
  {
   "cell_type": "markdown",
   "metadata": {},
   "source": [
    "## 问题 9：\n",
    "\n",
    "**选择问题**:给定一个包含n个未排序值的数组A和一个$k≤n$的整数, 返回A中最小的第k项。\n",
    "\n",
    "在课堂上, 学了一个简单的O(n)随机算法来解决选择问题。事实上还有一种更复杂的最坏情况下时间复杂度为$O(n)$ 的选择算法。假设使用一个黑盒过程来实现这个O(n)选择算法: 给定一个数组A、 $p < r$ 和 k,  $BB(A, p, r, k)$ 可以在$O(r−p+ 1)$时间内找到并报告$A[p..r]$中第k小的项的下标。假设你可以在线性时间内处理Partition过程。\n",
    "\n",
    "1. 请分析如何修改 Quicksork 算法可以使其最差情况下的运行时间为 $O(nlogn)$, 使用伪代码实现, 并分析为何修改后的版本最差情况的运行时间为$O(nlogn)$\n",
    "\n",
    "note: 伪代码中, 你可以直接调用用` BB(A,p,r,k)`这个函数用于表示在最坏情况下时间复杂度为$O(n)$的选择算法；\n",
    "\n",
    "\n",
    "\n",
    "2. 找到一个更好的算法报告数组A中的前k小的项, 使用伪代码表示你的算法, 并分析你算法的时间复杂度。\n",
    "\n",
    "举例：A=[13, 3, 7, 9, 11, 1, 15, 2, 8, 10, 12, 16, 14, 5], 当k=4时, 应该报告1, 2, 3, 4\n",
    "\n",
    "note： 最直观的方法就是先将数组A排序, 然后从左向右报告其前k项, 这样操作的时间复杂度为$O(nlogn)$. 调用用` BB(A,p,r,k)`设计一个算法使其报告无序数组A的前k项, 满足时间复杂度好于$\\Theta(nlogn)$, 并且当$k=\\sqrt{n}$时, 你设计的算法时间复杂度应该为$\\Theta(n)$.\n",
    "\n",
    "\n",
    "\n",
    "3. 给定一个大小为n的数组, 找到一个 时间复杂度为$O(n log k)$ 的算法, 该算法将A中的元素重新排序, 使它们被划分为k个部分, 每个部分的元素小于或等于下一部分的元素。假设n和k都是2的幂。使用伪代码表示你的算法, 并分析时间复杂度。\n",
    "\n",
    "e.g.:\n",
    "---\n",
    "数组：[1,  3,  5,  7,  9,  11,  13,  15,  2,  4,  6,  8,  10,  12,  16,  14], k=4, \n",
    "\n",
    "对应重新排序的数组为：[1,  3,  2,  4]  [7,  6,  5,  8]  [12,  11,  10,  9]  [13,  14,  16,  15]\n",
    "\n",
    "\n"
   ]
  },
  {
   "cell_type": "markdown",
   "metadata": {},
   "source": [
    "idea："
   ]
  },
  {
   "cell_type": "markdown",
   "metadata": {},
   "source": [
    "### 1. 修改QuickSort算法使其最差情况运行时间为$O(nlogn)$\n",
    "- **算法思路**：传统快速排序在最差情况下（如数组已经有序，每次选取的基准都是最大或最小元素 ）时间复杂度为 $O(n^2)$ 。为了将最差情况时间复杂度降为 $O(nlogn)$ ，可以利用题目中给出的黑盒函数 `BB(A, p, r, k)` 来选择一个近似中位数作为基准。具体做法是，在每次划分前，使用 `BB(A, p, r, (r - p + 1) / 2)` 找到子数组 `A[p..r]` 的中位数作为基准，然后进行划分操作，再对左右子数组递归调用排序函数。 "
   ]
  },
  {
   "cell_type": "code",
   "execution_count": null,
   "metadata": {},
   "outputs": [],
   "source": [
    "\n",
    "# Function BB(A, p, r, k)\n",
    "#     假设它能正确返回第 k 小元素的下标\n",
    "#     return index\n",
    "\n",
    "# // 划分函数，将数组 A[p..r] 以 A[p] 为基准进行划分\n",
    "# Function Partition(A, p, r)\n",
    "#     pivot = A[p]\n",
    "#     i = p\n",
    "#     for j = p + 1 to r\n",
    "#         if A[j] <= pivot\n",
    "#             i = i + 1\n",
    "#             swap A[i] and A[j]\n",
    "#     swap A[p] and A[i]\n",
    "#     return i\n",
    "\n",
    "# // 修改后的快速排序函数，使最差情况时间复杂度为 O(nlogn)\n",
    "# // 输入：数组 A，起始下标 p，结束下标 r\n",
    "# Function ModifiedQuickSort(A, p, r)\n",
    "#     if p < r\n",
    "#         // 找到近似中位数作为基准\n",
    "#         pivot_index = BB(A, p, r, (r - p + 1) / 2)\n",
    "#         swap A[pivot_index] and A[p]\n",
    "#         q = Partition(A, p, r)\n",
    "#         ModifiedQuickSort(A, p, q - 1)\n",
    "#         ModifiedQuickSort(A, q + 1, r)\n",
    "\n",
    "\n",
    "# Function SortArray(A)\n",
    "#     n = length(A)\n",
    "#     ModifiedQuickSort(A, 1, n)\n",
    "#     return A    "
   ]
  },
  {
   "cell_type": "markdown",
   "metadata": {},
   "source": [
    "### 2. 找到更好的算法报告数组A中的前k小的项\n",
    "- **算法思路**：利用 `BB(A, p, r, k)` 函数。首先调用 `BB(A, 1, n, k)` 找到数组 `A` 中第 `k` 小的元素的下标 `index` ，然后使用 `Partition` 函数将数组划分为两部分，左边部分的元素都小于等于第 `k` 小的元素，右边部分的元素都大于第 `k` 小的元素。左边部分的元素就是前 `k` 小的元素。\n",
    "- **时间复杂度分析**：调用 `BB(A, 1, n, k)` 函数时间复杂度为 $O(n)$ ，`Partition` 操作时间复杂度为 $O(n)$ ，所以总体时间复杂度为 $O(n)$ 。当 $k = \\sqrt{n}$ 时，时间复杂度依然为 $O(n)$ ，因为主要操作还是依赖于对整个数组的一次划分和查找第 `k` 小元素，没有因为 `k` 的这种取值而增加额外的高阶复杂度。"
   ]
  },
  {
   "cell_type": "code",
   "execution_count": null,
   "metadata": {},
   "outputs": [],
   "source": [
    "\n",
    "# Function BB(A, p, r, k)\n",
    "#     假设它能正确返回第 k 小元素的下标\n",
    "#     return index\n",
    "\n",
    "# // 划分函数，将数组 A[p..r] 以 A[p] 为基准进行划分\n",
    "# Function Partition(A, p, r)\n",
    "#     pivot = A[p]\n",
    "#     i = p\n",
    "#     for j = p + 1 to r\n",
    "#         if A[j] <= pivot\n",
    "#             i = i + 1\n",
    "#             swap A[i] and A[j]\n",
    "#     swap A[p] and A[i]\n",
    "#     return i\n",
    "\n",
    "# // 找到数组 A 中前 k 小的项的函数\n",
    "# Function FindKSmallest(A, n, k)\n",
    "#     index = BB(A, 1, n, k)\n",
    "#     // 以第 k 小的元素为基准进行划分\n",
    "#     q = Partition(A, 1, n, index)\n",
    "#     result = new Array[k]\n",
    "#     for i = 1 to k\n",
    "#         result[i] = A[i]\n",
    "#     return result    "
   ]
  },
  {
   "cell_type": "markdown",
   "metadata": {},
   "source": [
    "### 3. 时间复杂度为$O(nlogk)$的算法将A中元素重排序划分为k个部分\n",
    "- **算法思路**：采用分治策略。将数组不断二分，每次二分后对左右子数组分别处理，直到子数组的数量达到 `k` 个。每次划分都可以利用 `BB` 函数找到合适的划分点，使得划分后的两部分满足元素大小关系要求。\n",
    "这里假设 `Concatenate` 函数用于将两个子数组合并成一个数组。\n",
    "- **时间复杂度分析**：每次划分操作时间复杂度为 $O(n)$ ，递归树的高度为 $O(logk)$ （因为每次将子问题数量翻倍，直到达到 `k` 个 ），所以总体时间复杂度为 $O(nlogk)$ 。"
   ]
  },
  {
   "cell_type": "code",
   "execution_count": null,
   "metadata": {},
   "outputs": [],
   "source": [
    "\n",
    "# Function BB(A, p, r, k)\n",
    "#     假设它能正确返回第 k 小元素的下标\n",
    "#     return index\n",
    "\n",
    "# // 划分函数，将数组 A[p..r] 以 A[p] 为基准进行划分\n",
    "# Function Partition(A, p, r)\n",
    "#     pivot = A[p]\n",
    "#     i = p\n",
    "#     for j = p + 1 to r\n",
    "#         if A[j] <= pivot\n",
    "#             i = i + 1\n",
    "#             swap A[i] and A[j]\n",
    "#     swap A[p] and A[i]\n",
    "#     return i\n",
    "\n",
    "# // 合并两个数组的函数\n",
    "# Function Concatenate(left, right)\n",
    "#     result = new Array[length(left) + length(right)]\n",
    "#     index = 1\n",
    "#     for i = 1 to length(left)\n",
    "#         result[index] = left[i]\n",
    "#         index = index + 1\n",
    "#     for i = 1 to length(right)\n",
    "#         result[index] = right[i]\n",
    "#         index = index + 1\n",
    "#     return result\n",
    "\n",
    "# // 将数组 A 中元素重排序划分为 k 个部分的函数\n",
    "# Function PartitionArray(A, p, r, k)\n",
    "#     if k == 1\n",
    "#         return A[p..r]\n",
    "#     m = (r - p + 1) / 2\n",
    "#     // 找到合适的划分点，使得左边部分大约有一半元素\n",
    "#     split_index = BB(A, p, r, m)\n",
    "#     swap A[split_index] and A[p]\n",
    "#     q = Partition(A, p, r)\n",
    "#     left = PartitionArray(A, p, q, k / 2)\n",
    "#     right = PartitionArray(A, q + 1, r, k / 2)\n",
    "#     return Concatenate(left, right)\n",
    "\n",
    "# Function MainPartition(A, k)\n",
    "#     n = length(A)\n",
    "#     return PartitionArray(A, 1, n, k)    "
   ]
  },
  {
   "cell_type": "markdown",
   "metadata": {},
   "source": [
    "## 问题 10：\n",
    "\n",
    "给定一个包含m个**字符串**的数组A, 其中不同的字符串可能有不同的字符数, 但数组中所有字符串的字符总数为n。设计一个算法在 $O(n)$ 时间内对字符串进行排序, 分析算法设计方案, 计算其时间复杂度, 并基于python编程实现该算法。请注意, 假设字符串只包含\"a\",\"b\",...,\"z\", \n",
    "\n",
    "\n",
    "\n",
    "举例1：数组A=[\"a\", \"da\", \"bde\", \"ab\", \"bc\", \"abdc\", \"cdba\"], 排序后的数组应该为：['a', 'ab', 'abdc', 'bc', 'bde', 'cdba', 'da']\n",
    "\n",
    "\n",
    "\n",
    "举例2：数组A=['ab', 'a', 'b', 'abc', 'ba', 'c'], 排序后的数组应该为：\n",
    "\n",
    "['a', 'ab', 'abc', 'b', 'ba', 'c']\n",
    "\n",
    "\n",
    "\n",
    "举例3：数组A=['aef', 'yzr', 'wr', 'ab', 'bhjc', 'lkabdc', 'pwcdba'],  排序后的数组应该为：['ab', 'aef', 'bhjc', 'lkabdc', 'pwcdba', 'wr', 'yzr']\n",
    "\n",
    "\n",
    "\n",
    "note：\n",
    "\n",
    "-  两个字符之间的比较可以考虑比较他们对应的ASCII码值；\n",
    "- python中可以使用`ord(\"a\")`返回字符 “a”对应的ASCII值"
   ]
  },
  {
   "cell_type": "markdown",
   "metadata": {},
   "source": [
    "idea:\n",
    "### 算法设计思路\n",
    "使用基数排序（Radix Sort）算法来解决。基数排序是一种非比较排序算法，它按照从低位到高位的顺序，依次对字符串的每一位字符进行排序。由于字符串只包含 `'a'` 到 `'z'` 这26个字符，所以每一位的“桶”数量是固定的26个。\n",
    "1. 首先确定所有字符串中的最大长度 `max_len` ，对于长度小于 `max_len` 的字符串，在其末尾补特殊字符（这里假设补 `' '` ），使所有字符串长度一致。\n",
    "2. 从字符串的最低位（最右边字符 ）开始，依次对每一位进行分配和收集操作。分配操作是将字符串根据当前位的字符放入对应的桶中（共26个桶，对应 `'a'` 到 `'z'` ），收集操作是按照桶的顺序依次取出字符串，形成新的有序序列。\n",
    "3. 重复步骤2，直到处理完最高位（最左边字符 ），此时得到的序列就是排序后的字符串数组。\n",
    "\n",
    "### 时间复杂度分析\n",
    "- 确定最大长度 `max_len` 的时间复杂度为 $O(m)$ ，其中 `m` 是字符串的数量。\n",
    "- 对每一位进行分配和收集操作，分配操作需要遍历所有 `n` 个字符（因为所有字符串字符总数为 `n` ），收集操作也是线性时间，而总共需要处理 `max_len` 位，所以这部分时间复杂度为 $O(n)$ 。\n",
    "- 总体时间复杂度为 $O(n)$ ，满足题目要求。\n"
   ]
  },
  {
   "cell_type": "code",
   "execution_count": 31,
   "metadata": {},
   "outputs": [
    {
     "name": "stdout",
     "output_type": "stream",
     "text": [
      "['a', 'ab', 'abdc', 'bc', 'bde', 'cdba', 'da']\n",
      "['a', 'ab', 'abc', 'b', 'ba', 'c']\n",
      "['ab', 'aef', 'bhjc', 'lkabdc', 'pwcdba', 'wr', 'yzr']\n"
     ]
    }
   ],
   "source": [
    "def radix_sort_strings(strings):\n",
    "    if not strings:\n",
    "        return []\n",
    "    max_len = max(len(s) for s in strings)\n",
    "    # 补全字符串长度\n",
    "    strings = [s + ' ' * (max_len - len(s)) for s in strings]\n",
    "    for i in range(max_len - 1, -1, -1):\n",
    "        buckets = [[] for _ in range(26)]\n",
    "        for s in strings:\n",
    "            # 将字符映射到对应的桶（0 - 25 ）\n",
    "            bucket_index = ord(s[i]) - ord('a') if s[i] != ' ' else 0\n",
    "            buckets[bucket_index].append(s)\n",
    "        strings = []\n",
    "        for bucket in buckets:\n",
    "            strings.extend(bucket)\n",
    "    # 去除补全的空格\n",
    "    return [s.rstrip() for s in strings]\n",
    "\n",
    "# 示例测试\n",
    "A1=[\"a\", \"da\", \"bde\", \"ab\", \"bc\", \"abdc\", \"cdba\"]\n",
    "print(radix_sort_strings(A1))\n",
    "A2=['ab', 'a', 'b', 'abc', 'ba', 'c']\n",
    "print(radix_sort_strings(A2))\n",
    "A3=['aef', 'yzr', 'wr', 'ab', 'bhjc', 'lkabdc', 'pwcdba']\n",
    "print(radix_sort_strings(A3))\n",
    "\n"
   ]
  }
 ],
 "metadata": {
  "kernelspec": {
   "display_name": "base",
   "language": "python",
   "name": "python3"
  },
  "language_info": {
   "codemirror_mode": {
    "name": "ipython",
    "version": 3
   },
   "file_extension": ".py",
   "mimetype": "text/x-python",
   "name": "python",
   "nbconvert_exporter": "python",
   "pygments_lexer": "ipython3",
   "version": "3.11.7"
  }
 },
 "nbformat": 4,
 "nbformat_minor": 2
}
